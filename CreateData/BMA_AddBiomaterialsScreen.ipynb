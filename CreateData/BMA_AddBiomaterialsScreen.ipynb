{
 "cells": [
  {
   "cell_type": "markdown",
   "metadata": {},
   "source": [
    "<h3> Biomaterial Atlas: add a biomaterials screen </h3>"
   ]
  },
  {
   "cell_type": "markdown",
   "metadata": {},
   "source": [
    "<p> This Jupyter notebook will guide you through the metadata fields of the Data Document Model (DDM) for a biomaterials screen. </p>\n",
    "\n",
    "<p> Every keyword will be given a value based on your input. In this Jupyter Notebook, you have to evaluate a cell before you can type a value. In this way, you can always rerun a cell if you believe there are some spelling errors or general mistakes.<p>"
   ]
  },
  {
   "cell_type": "markdown",
   "metadata": {},
   "source": [
    "<h3> Metadata: Project level </h3>"
   ]
  },
  {
   "cell_type": "code",
   "execution_count": 1,
   "metadata": {},
   "outputs": [
    {
     "name": "stdout",
     "output_type": "stream",
     "text": [
      "Provide  the study type: TopoChip\n"
     ]
    }
   ],
   "source": [
    "Study_type=input('Provide  the study type: ')"
   ]
  },
  {
   "cell_type": "code",
   "execution_count": 2,
   "metadata": {},
   "outputs": [
    {
     "name": "stdout",
     "output_type": "stream",
     "text": [
      "Provide the study ID: Materiomics001\n"
     ]
    }
   ],
   "source": [
    "ID = input('Provide the study ID: ')"
   ]
  },
  {
   "cell_type": "code",
   "execution_count": 3,
   "metadata": {},
   "outputs": [
    {
     "name": "stdout",
     "output_type": "stream",
     "text": [
      "Provide  the study name (2 keywords): Osteoinductive surfaces\n"
     ]
    }
   ],
   "source": [
    "Study_Name=input('Provide  the study name (2 keywords): ')"
   ]
  },
  {
   "cell_type": "code",
   "execution_count": 4,
   "metadata": {},
   "outputs": [
    {
     "name": "stdout",
     "output_type": "stream",
     "text": [
      "Provide the project name: ALP\n"
     ]
    }
   ],
   "source": [
    "Project=input(\"Provide the project name: \")"
   ]
  },
  {
   "cell_type": "code",
   "execution_count": 5,
   "metadata": {},
   "outputs": [
    {
     "name": "stdout",
     "output_type": "stream",
     "text": [
      "Provide the title of the study (publication title if applicable): Mining for osteogenic surface topographies: in silico design to in vivo osseo-integration\n"
     ]
    }
   ],
   "source": [
    "Title=input(\"Provide the title of the study (publication title if applicable): \")"
   ]
  },
  {
   "cell_type": "code",
   "execution_count": 60,
   "metadata": {},
   "outputs": [
    {
     "name": "stdout",
     "output_type": "stream",
     "text": [
      "Provide  the first and last name of the lead author: Frits Hulshof\n"
     ]
    }
   ],
   "source": [
    "Lead_author=input(\"Provide  the first and last name of the lead author: \")\n"
   ]
  },
  {
   "cell_type": "code",
   "execution_count": 7,
   "metadata": {},
   "outputs": [
    {
     "name": "stdout",
     "output_type": "stream",
     "text": [
      "Provide  the first and last name of the PI: Jan de Boer\n"
     ]
    }
   ],
   "source": [
    "Principal_investigator=input(\"Provide  the first and last name of the PI: \")"
   ]
  },
  {
   "cell_type": "code",
   "execution_count": 8,
   "metadata": {},
   "outputs": [
    {
     "name": "stdout",
     "output_type": "stream",
     "text": [
      "Provide  the DOI: (if not applicable type N/A): 10.1016/j.biomaterials.2017.05.020\n"
     ]
    }
   ],
   "source": [
    "DOI=input(\"Provide  the DOI: (if not applicable type N/A): \")"
   ]
  },
  {
   "cell_type": "code",
   "execution_count": 9,
   "metadata": {},
   "outputs": [
    {
     "name": "stdout",
     "output_type": "stream",
     "text": [
      "Provide the date of the study: 12 May 2017\n"
     ]
    }
   ],
   "source": [
    "Date=input(\"Provide the date of the study: \")"
   ]
  },
  {
   "cell_type": "markdown",
   "metadata": {},
   "source": [
    "<b> Summary: </b> the summary gives the overal findings and conclusion of the paper. This can be seen as a short abstract of the study"
   ]
  },
  {
   "cell_type": "code",
   "execution_count": 10,
   "metadata": {},
   "outputs": [
    {
     "name": "stdout",
     "output_type": "stream",
     "text": [
      "Provide  the summary of the study: Stem cells respond to the physicochemical parameters of the substrate on which they grow. Quantitative material activity relationships ethe relationships between substrate parameters and the phenotypes they induce have so far poorly predicted the success of bioactive implant surfaces. In this report, we screened a library of randomly selected designed surface topographies for those inducing osteogenic differentiation of bone marrow-derived mesenchymal stem cells. Cell shape features, surface design parameters, and osteogenic marker expression were strongly correlated in vitro. Furthermore, the surfaces with the highest osteogenic potential in vitro also demonstrated their osteogenic effect in vivo: these indeed strongly enhanced bone bonding in a rabbit femur model. Our work shows that by giving stem cells specific physicochemical parameters through designed surface topographies, differentiation of these cells can be dictated.\n"
     ]
    }
   ],
   "source": [
    "Summary=input(\"Provide  the summary of the study: \")"
   ]
  },
  {
   "cell_type": "markdown",
   "metadata": {},
   "source": [
    "<h3> Metadata: Study design level </h3>"
   ]
  },
  {
   "cell_type": "markdown",
   "metadata": {},
   "source": [
    "<h5> Cell Culture </h5>"
   ]
  },
  {
   "cell_type": "code",
   "execution_count": 11,
   "metadata": {},
   "outputs": [
    {
     "name": "stdout",
     "output_type": "stream",
     "text": [
      "Did you perform a cell culture? (Yes or No) Yes\n"
     ]
    }
   ],
   "source": [
    "cell_culture_performed = input(\"Did you perform a cell culture? (Yes or No) \")"
   ]
  },
  {
   "cell_type": "code",
   "execution_count": 12,
   "metadata": {},
   "outputs": [
    {
     "name": "stdout",
     "output_type": "stream",
     "text": [
      "Provide  the cell type: hMSC\n"
     ]
    }
   ],
   "source": [
    "Cell_type = input(\"Provide  the cell type: \")"
   ]
  },
  {
   "cell_type": "code",
   "execution_count": 13,
   "metadata": {},
   "outputs": [
    {
     "name": "stdout",
     "output_type": "stream",
     "text": [
      "Provide  the passage number: p2 -> p3\n"
     ]
    }
   ],
   "source": [
    "Passage_number = input(\"Provide  the passage number: \")"
   ]
  },
  {
   "cell_type": "markdown",
   "metadata": {},
   "source": [
    "Please provide the details of the start ampule culture medium and the seeding medium"
   ]
  },
  {
   "cell_type": "code",
   "execution_count": 14,
   "metadata": {},
   "outputs": [
    {
     "name": "stdout",
     "output_type": "stream",
     "text": [
      "Provide  the type of the start ampulehMSC basic medium\n"
     ]
    }
   ],
   "source": [
    "start_ampule_type = input(\"Provide  the type of the start ampule\")"
   ]
  },
  {
   "cell_type": "code",
   "execution_count": 15,
   "metadata": {},
   "outputs": [
    {
     "name": "stdout",
     "output_type": "stream",
     "text": [
      "Provide  the medium name: alpha mem\n"
     ]
    }
   ],
   "source": [
    "start_ampule_medium = input(\"Provide  the medium name: \")"
   ]
  },
  {
   "cell_type": "code",
   "execution_count": 17,
   "metadata": {},
   "outputs": [
    {
     "name": "stdout",
     "output_type": "stream",
     "text": [
      "Provide the serum details10% FCS\n"
     ]
    }
   ],
   "source": [
    "start_ampule_serum = input(\"Provide the serum details\")"
   ]
  },
  {
   "cell_type": "code",
   "execution_count": 16,
   "metadata": {},
   "outputs": [
    {
     "name": "stdout",
     "output_type": "stream",
     "text": [
      "Provide  the type of antibiotics used: (type none if not used) 1% P/S\n"
     ]
    }
   ],
   "source": [
    "start_ampule_antibiotics=input('Provide  the type of antibiotics used: (type none if not used) ')"
   ]
  },
  {
   "cell_type": "code",
   "execution_count": 47,
   "metadata": {},
   "outputs": [
    {
     "name": "stdout",
     "output_type": "stream",
     "text": [
      "Provide  the medium components: L-Glutamine, L-ascorbic acid-2-phosphate\n"
     ]
    }
   ],
   "source": [
    "start_ampule_components = input(\"Provide  the medium components: \")"
   ]
  },
  {
   "cell_type": "code",
   "execution_count": 19,
   "metadata": {},
   "outputs": [
    {
     "name": "stdout",
     "output_type": "stream",
     "text": [
      "Provide  the concentration of the components: 2 mM, 0.2 mM\n"
     ]
    }
   ],
   "source": [
    "start_ampule_components_concentration = input(\"Provide  the concentration of the components: \")"
   ]
  },
  {
   "cell_type": "code",
   "execution_count": 20,
   "metadata": {},
   "outputs": [
    {
     "name": "stdout",
     "output_type": "stream",
     "text": [
      "Provide the seeding medium type: hMSC basic medium\n"
     ]
    }
   ],
   "source": [
    "seeding_medium_type = input(\"Provide the seeding medium type: \")"
   ]
  },
  {
   "cell_type": "code",
   "execution_count": 21,
   "metadata": {},
   "outputs": [
    {
     "name": "stdout",
     "output_type": "stream",
     "text": [
      "Provide the medium details: alpha mem\n"
     ]
    }
   ],
   "source": [
    "seeding_medium_medium = input(\"Provide the medium details: \")"
   ]
  },
  {
   "cell_type": "code",
   "execution_count": 22,
   "metadata": {},
   "outputs": [
    {
     "name": "stdout",
     "output_type": "stream",
     "text": [
      "Provide the serum details10% FCS\n"
     ]
    }
   ],
   "source": [
    "seeding_medium_serum = input(\"Provide the serum details: \")"
   ]
  },
  {
   "cell_type": "code",
   "execution_count": 23,
   "metadata": {},
   "outputs": [
    {
     "name": "stdout",
     "output_type": "stream",
     "text": [
      "Provide the type of antibiotics used: (type none if not used) 1% P/S\n"
     ]
    }
   ],
   "source": [
    "seeding_medium_antibiotics = input(\"Provide the type of antibiotics used: (type none if not used) \")"
   ]
  },
  {
   "cell_type": "code",
   "execution_count": 46,
   "metadata": {},
   "outputs": [
    {
     "name": "stdout",
     "output_type": "stream",
     "text": [
      "Provide the components: L-Glutamine, L-ascorbic acid-2-phosphate\n"
     ]
    }
   ],
   "source": [
    "seeding_medium_components = input(\"Provide the components: \")"
   ]
  },
  {
   "cell_type": "code",
   "execution_count": 26,
   "metadata": {},
   "outputs": [
    {
     "name": "stdout",
     "output_type": "stream",
     "text": [
      "Provide the components concentration: 2mM, 0.2 mM\n"
     ]
    }
   ],
   "source": [
    "seeding_medium_components_concentration = input(\"Provide the components concentration: \")"
   ]
  },
  {
   "cell_type": "markdown",
   "metadata": {},
   "source": [
    "<h5> Biomaterials screen details </h5>"
   ]
  },
  {
   "cell_type": "code",
   "execution_count": 27,
   "metadata": {},
   "outputs": [
    {
     "name": "stdout",
     "output_type": "stream",
     "text": [
      "Did you perform a screen? (Yes or No) Yes\n"
     ]
    }
   ],
   "source": [
    "biomaterials_screen_performed = input(\"Did you perform a screen? (Yes or No) \")"
   ]
  },
  {
   "cell_type": "code",
   "execution_count": 28,
   "metadata": {},
   "outputs": [
    {
     "name": "stdout",
     "output_type": "stream",
     "text": [
      "Provide the screening type: TopoChip\n"
     ]
    }
   ],
   "source": [
    "biomaterials_screen_type = input(\"Provide the screening type: \")"
   ]
  },
  {
   "cell_type": "code",
   "execution_count": 29,
   "metadata": {},
   "outputs": [
    {
     "name": "stdout",
     "output_type": "stream",
     "text": [
      "Provide the design type: surfaces\n"
     ]
    }
   ],
   "source": [
    "biomaterials_design_type = input(\"Provide the design type: \")"
   ]
  },
  {
   "cell_type": "code",
   "execution_count": 30,
   "metadata": {},
   "outputs": [
    {
     "name": "stdout",
     "output_type": "stream",
     "text": [
      "Provide the scale of the platform: micrometer\n"
     ]
    }
   ],
   "source": [
    "biomaterials_feature_scale = input(\"Provide the scale of the platform: \")"
   ]
  },
  {
   "cell_type": "code",
   "execution_count": 31,
   "metadata": {},
   "outputs": [
    {
     "name": "stdout",
     "output_type": "stream",
     "text": [
      "Provide the base material information: PLA\n"
     ]
    }
   ],
   "source": [
    "biomaterials_base_material = input(\"Provide the base material information: \")"
   ]
  },
  {
   "cell_type": "code",
   "execution_count": 32,
   "metadata": {},
   "outputs": [
    {
     "name": "stdout",
     "output_type": "stream",
     "text": [
      "Provide the details on surface treatment (N/A if not applicable): No treatment\n"
     ]
    }
   ],
   "source": [
    "biomaterials_surface_treatment = input(\"Provide the details on surface treatment (N/A if not applicable): \")"
   ]
  },
  {
   "cell_type": "code",
   "execution_count": 33,
   "metadata": {},
   "outputs": [
    {
     "name": "stdout",
     "output_type": "stream",
     "text": [
      "Provide details on the material coating: Titanium\n"
     ]
    }
   ],
   "source": [
    "biomaterials_coating = input(\"Provide details on the material coating: \")"
   ]
  },
  {
   "cell_type": "code",
   "execution_count": 34,
   "metadata": {},
   "outputs": [
    {
     "name": "stdout",
     "output_type": "stream",
     "text": [
      "Provide the number of replicates: 10\n"
     ]
    }
   ],
   "source": [
    "biomaterials_number_of_replicates = input(\"Provide the number of replicates: \")"
   ]
  },
  {
   "cell_type": "code",
   "execution_count": 35,
   "metadata": {},
   "outputs": [
    {
     "name": "stdout",
     "output_type": "stream",
     "text": [
      "Provide a summary of the experiment: Poly lactic acid TopoChips coated with a 200 nm layer of Titanium. For screening, passage 4 hMSCs (Lonza) at a density of 3000 cells/cm2 were seeded onto 8 Titanium-coated TopoChips and cultured for 5 days after which nuclei (DAPI, Life technologies), filamentous actin cytoskeleton (Goat-anti-mouse-Alexa594 and Phalloidin-Alexa488, Life technologies), and non-specific alkaline phosphatase (anti-ALP, sc137213, Santa Cruz BioTech) were stained. The relationship between ALP level and cell shape, we selected the 100 highest and lowest surfaces ranked by ALP intensity. The morphological difference between positive and negative hits are analyzed in more detail by higher-resolution confocal microscopy (filamentous actin in red, DNA in green and ALP in blue, total images 12).\n"
     ]
    }
   ],
   "source": [
    "biomaterials_summary = input(\"Provide a summary of the experiment: \")"
   ]
  },
  {
   "cell_type": "markdown",
   "metadata": {},
   "source": [
    "<h5> Fluorescence imaging metadata </h5>"
   ]
  },
  {
   "cell_type": "code",
   "execution_count": 55,
   "metadata": {},
   "outputs": [
    {
     "name": "stdout",
     "output_type": "stream",
     "text": [
      "Did you perform an imaging experiment: (Yes or No) No\n"
     ]
    }
   ],
   "source": [
    "imaging_performed = input(\"Did you perform an imaging experiment: (Yes or No) \")"
   ]
  },
  {
   "cell_type": "code",
   "execution_count": null,
   "metadata": {},
   "outputs": [],
   "source": [
    "imaging_micropscope = input(\"Provide the microscope type: \")"
   ]
  },
  {
   "cell_type": "code",
   "execution_count": null,
   "metadata": {},
   "outputs": [],
   "source": [
    "imaging_date = input(\"Provide the date of the experiment: \")"
   ]
  },
  {
   "cell_type": "markdown",
   "metadata": {},
   "source": [
    "Now you need to provide the label information for each label used. By default, this template assumes you have three labels."
   ]
  },
  {
   "cell_type": "code",
   "execution_count": null,
   "metadata": {},
   "outputs": [],
   "source": [
    "imaging_label1_first_antibody = input(\"Give the first antibody for label 1: \")"
   ]
  },
  {
   "cell_type": "code",
   "execution_count": null,
   "metadata": {},
   "outputs": [],
   "source": [
    "imaging_label1_second_antibody = input(\"Give the second antibody for label 1: \")"
   ]
  },
  {
   "cell_type": "code",
   "execution_count": null,
   "metadata": {},
   "outputs": [],
   "source": [
    "imaging_label1_target = input(\"Give the target for label 1: \")"
   ]
  },
  {
   "cell_type": "code",
   "execution_count": null,
   "metadata": {},
   "outputs": [],
   "source": [
    "imaging_label1_fluorescent_dye = input(\"Give the fluorescent dye for label 1: \")"
   ]
  },
  {
   "cell_type": "code",
   "execution_count": null,
   "metadata": {},
   "outputs": [],
   "source": [
    "imaging_label1_excitation_wavelength = input(\"Give the excitation wavelength for label 1: \")"
   ]
  },
  {
   "cell_type": "code",
   "execution_count": null,
   "metadata": {},
   "outputs": [],
   "source": [
    "imaging_label1_emission_wavelength = input(\"Give the emission wavelength for label 1: \")"
   ]
  },
  {
   "cell_type": "code",
   "execution_count": null,
   "metadata": {},
   "outputs": [],
   "source": [
    "imaging_label2_first_antibody = input(\"Give the first antibody for label 1: \")"
   ]
  },
  {
   "cell_type": "code",
   "execution_count": null,
   "metadata": {},
   "outputs": [],
   "source": [
    "imaging_label2_second_antibody = input(\"Give the second antibody for label 1: \")"
   ]
  },
  {
   "cell_type": "code",
   "execution_count": null,
   "metadata": {},
   "outputs": [],
   "source": [
    "imaging_label2_target = input(\"Give the target for label 1: \")"
   ]
  },
  {
   "cell_type": "code",
   "execution_count": null,
   "metadata": {},
   "outputs": [],
   "source": [
    "imaging_label2_fluorescent_dye = input(\"Give the fluorescent dye for label 1: \")"
   ]
  },
  {
   "cell_type": "code",
   "execution_count": null,
   "metadata": {},
   "outputs": [],
   "source": [
    "imaging_label2_excitation_wavelength = input(\"Give the excitation wavelength for label 1: \")"
   ]
  },
  {
   "cell_type": "code",
   "execution_count": null,
   "metadata": {},
   "outputs": [],
   "source": [
    "imaging_label2_emission_wavelength = input(\"Give the emission wavelength for label 1: \")"
   ]
  },
  {
   "cell_type": "code",
   "execution_count": null,
   "metadata": {},
   "outputs": [],
   "source": [
    "imaging_label3_first_antibody = input(\"Give the first antibody for label 1: \")"
   ]
  },
  {
   "cell_type": "code",
   "execution_count": null,
   "metadata": {},
   "outputs": [],
   "source": [
    "imaging_label3_second_antibody = input(\"Give the second antibody for label 1: \")"
   ]
  },
  {
   "cell_type": "code",
   "execution_count": null,
   "metadata": {},
   "outputs": [],
   "source": [
    "imaging_label3_target = input(\"Give the target for label 1: \")"
   ]
  },
  {
   "cell_type": "code",
   "execution_count": null,
   "metadata": {},
   "outputs": [],
   "source": [
    "imaging_label3_fluorescent_dye = input(\"Give the fluorescent dye for label 1: \")"
   ]
  },
  {
   "cell_type": "code",
   "execution_count": null,
   "metadata": {},
   "outputs": [],
   "source": [
    "imaging_label3_excitation_wavelength = input(\"Give the excitation wavelength for label 1: \")"
   ]
  },
  {
   "cell_type": "code",
   "execution_count": null,
   "metadata": {},
   "outputs": [],
   "source": [
    "imaging_label3_emission_wavelength = input(\"Give the emission wavelength for label 1: \")"
   ]
  },
  {
   "cell_type": "code",
   "execution_count": null,
   "metadata": {},
   "outputs": [],
   "source": [
    "imaging_channel_names = input(\"Give the name for each channel: \")"
   ]
  },
  {
   "cell_type": "markdown",
   "metadata": {},
   "source": [
    "<h5> Surface validation </h5>"
   ]
  },
  {
   "cell_type": "code",
   "execution_count": 36,
   "metadata": {},
   "outputs": [
    {
     "name": "stdout",
     "output_type": "stream",
     "text": [
      "Did you perform a validation study: (Yes or No) Yes\n"
     ]
    }
   ],
   "source": [
    "surface_validation_performed = input(\"Did you perform a validation study: (Yes or No) \")"
   ]
  },
  {
   "cell_type": "code",
   "execution_count": 37,
   "metadata": {},
   "outputs": [
    {
     "name": "stdout",
     "output_type": "stream",
     "text": [
      "Provide the number of selected surfaces for validation: 14\n"
     ]
    }
   ],
   "source": [
    "surface_validation_number_selected_surfaces = input(\"Provide the number of selected surfaces for validation: \")"
   ]
  },
  {
   "cell_type": "code",
   "execution_count": 38,
   "metadata": {},
   "outputs": [
    {
     "name": "stdout",
     "output_type": "stream",
     "text": [
      "Provide the surface feature id: 11,1050,1018,1706,1147,229,494\n"
     ]
    }
   ],
   "source": [
    "selected_surfaces_feature_id = input(\"Provide the surface feature id: \")"
   ]
  },
  {
   "cell_type": "code",
   "execution_count": 39,
   "metadata": {},
   "outputs": [
    {
     "name": "stdout",
     "output_type": "stream",
     "text": [
      "Provide the surface id (if they do not match the feature id): T2-PLA-Ti-3322,T2-PLA-Ti-0205,T2-PLA-Ti-0304,T2-PLA-Ti-1642,T2-PLA-Ti-3240,T2-PLA-Ti-2702,T2-PLA-Ti-1901\n"
     ]
    }
   ],
   "source": [
    "selected_surface_id = input(\"Provide the surface id (if they do not match the feature id): \")"
   ]
  },
  {
   "cell_type": "markdown",
   "metadata": {},
   "source": [
    "<h5> qPCR experiment </h5>"
   ]
  },
  {
   "cell_type": "code",
   "execution_count": 40,
   "metadata": {},
   "outputs": [
    {
     "name": "stdout",
     "output_type": "stream",
     "text": [
      "Did you perform a qpcr: (Yes or No) Yes\n"
     ]
    }
   ],
   "source": [
    "qpcr_performed = input(\"Did you perform a qpcr: (Yes or No) \")"
   ]
  },
  {
   "cell_type": "code",
   "execution_count": 41,
   "metadata": {},
   "outputs": [
    {
     "name": "stdout",
     "output_type": "stream",
     "text": [
      "Provide the experiment type: RT-qPCR\n"
     ]
    }
   ],
   "source": [
    "qpcr_experiment_type = input('Provide the experiment type: ')"
   ]
  },
  {
   "cell_type": "code",
   "execution_count": 42,
   "metadata": {},
   "outputs": [
    {
     "name": "stdout",
     "output_type": "stream",
     "text": [
      "Provide the cell type: hMSCs\n"
     ]
    }
   ],
   "source": [
    "qpcr_cell_type = input('Provide the cell type: ')"
   ]
  },
  {
   "cell_type": "code",
   "execution_count": 43,
   "metadata": {},
   "outputs": [
    {
     "name": "stdout",
     "output_type": "stream",
     "text": [
      "Provide the time point(s): 5 weeks\n"
     ]
    }
   ],
   "source": [
    "qpr_time = input('Provide the time point(s): ')"
   ]
  },
  {
   "cell_type": "code",
   "execution_count": 44,
   "metadata": {},
   "outputs": [
    {
     "name": "stdout",
     "output_type": "stream",
     "text": [
      "Provide the read outs: Total RNA of Osteopontin, Osteocalcin, Bone sialoprotein\n"
     ]
    }
   ],
   "source": [
    "qpcr_read_outs = input(\"Provide the read outs: \")"
   ]
  },
  {
   "cell_type": "code",
   "execution_count": null,
   "metadata": {},
   "outputs": [],
   "source": [
    "#qpcr_genes = input(\"Provide the gene names measured: \")"
   ]
  },
  {
   "cell_type": "markdown",
   "metadata": {},
   "source": [
    "<h5> Histology experiment </h5>"
   ]
  },
  {
   "cell_type": "code",
   "execution_count": 95,
   "metadata": {},
   "outputs": [
    {
     "name": "stdout",
     "output_type": "stream",
     "text": [
      "Did you perfrom a histology experiment? (Yes/No) Yes\n"
     ]
    }
   ],
   "source": [
    "histology_performed=input(\"Did you perfrom a histology experiment? (Yes/No) \")"
   ]
  },
  {
   "cell_type": "code",
   "execution_count": 96,
   "metadata": {},
   "outputs": [
    {
     "name": "stdout",
     "output_type": "stream",
     "text": [
      "Provide the name of the slide scanner: Nanozoomer, Hamamatsu\n"
     ]
    }
   ],
   "source": [
    "histology_slide_scanner = input(\"Provide the name of the slide scanner: \")"
   ]
  },
  {
   "cell_type": "code",
   "execution_count": 97,
   "metadata": {},
   "outputs": [
    {
     "name": "stdout",
     "output_type": "stream",
     "text": [
      "Provide information on the performed staining: 1% methylene blue and 0.3% basic Fuchsin solution\n"
     ]
    }
   ],
   "source": [
    "histology_staining = input(\"Provide information on the performed staining: \")"
   ]
  },
  {
   "cell_type": "markdown",
   "metadata": {},
   "source": [
    "<h5> Flow cytometry </h5>"
   ]
  },
  {
   "cell_type": "code",
   "execution_count": 98,
   "metadata": {},
   "outputs": [
    {
     "name": "stdout",
     "output_type": "stream",
     "text": [
      "Did you perform a flow cytometry experiment:  (Yes/No)Yes\n"
     ]
    }
   ],
   "source": [
    "flow_cytometry_performed = input(\"Did you perform a flow cytometry experiment:  (Yes/No)\")"
   ]
  },
  {
   "cell_type": "code",
   "execution_count": 99,
   "metadata": {},
   "outputs": [
    {
     "name": "stdout",
     "output_type": "stream",
     "text": [
      "Provide the seeding cell density: 3500 cells/cm2\n"
     ]
    }
   ],
   "source": [
    "flow_seeding_density = input(\"Provide the cell seeding  density: \")"
   ]
  },
  {
   "cell_type": "code",
   "execution_count": 100,
   "metadata": {},
   "outputs": [
    {
     "name": "stdout",
     "output_type": "stream",
     "text": [
      "Provide the culture time: 5 days\n"
     ]
    }
   ],
   "source": [
    "flow_culture_time = input(\"Provide the culture time: \")"
   ]
  },
  {
   "cell_type": "code",
   "execution_count": 101,
   "metadata": {},
   "outputs": [
    {
     "name": "stdout",
     "output_type": "stream",
     "text": [
      "Provide details of the medium: basic hMSC medium\n"
     ]
    }
   ],
   "source": [
    "flow_medium = input(\"Provide details of the medium: \")"
   ]
  },
  {
   "cell_type": "code",
   "execution_count": 102,
   "metadata": {},
   "outputs": [
    {
     "name": "stdout",
     "output_type": "stream",
     "text": [
      "Provide details of the staining: anti-human ALP antibody labeled with a Phycoerythrin-labeled specific secondary antibody\n"
     ]
    }
   ],
   "source": [
    "flow_staining = input(\"Provide details of the staining: \")"
   ]
  },
  {
   "cell_type": "code",
   "execution_count": 103,
   "metadata": {},
   "outputs": [
    {
     "name": "stdout",
     "output_type": "stream",
     "text": [
      "Provide the name of the flow cytometry machine: FACSCalibur (BD Biosciences)\n"
     ]
    }
   ],
   "source": [
    "flow_machine = input(\"Provide the name of the flow cytometry machine: \")"
   ]
  },
  {
   "cell_type": "code",
   "execution_count": 104,
   "metadata": {},
   "outputs": [
    {
     "name": "stdout",
     "output_type": "stream",
     "text": [
      "Provide the number of replicates: 3 replicates per condition\n"
     ]
    }
   ],
   "source": [
    "flow_replicates = input(\"Provide the number of replicates: \")"
   ]
  },
  {
   "cell_type": "markdown",
   "metadata": {},
   "source": [
    "<h5> Biomechanical test </h5>"
   ]
  },
  {
   "cell_type": "code",
   "execution_count": 108,
   "metadata": {},
   "outputs": [
    {
     "name": "stdout",
     "output_type": "stream",
     "text": [
      "Did your perform a biomechanical test: (Yes/No)Yes\n"
     ]
    }
   ],
   "source": [
    "biomechenical_test_performed=input(\"Did your perform a biomechanical test: (Yes/No)\")"
   ]
  },
  {
   "cell_type": "code",
   "execution_count": 110,
   "metadata": {},
   "outputs": [
    {
     "name": "stdout",
     "output_type": "stream",
     "text": [
      "Provide details on the type of biomechanical test: Tensile test\n"
     ]
    }
   ],
   "source": [
    "biomechanical_test_type=input(\"Provide details on the type of biomechanical test: \")"
   ]
  },
  {
   "cell_type": "code",
   "execution_count": 109,
   "metadata": {},
   "outputs": [
    {
     "name": "stdout",
     "output_type": "stream",
     "text": [
      "Provide details on the load cell: Sandoo SH-200 Load cell (0-200N)\n"
     ]
    }
   ],
   "source": [
    "biomechanical_load_cell=input(\"Provide details on the load cell: \")"
   ]
  },
  {
   "cell_type": "code",
   "execution_count": 112,
   "metadata": {},
   "outputs": [
    {
     "name": "stdout",
     "output_type": "stream",
     "text": [
      "Provide details of the applied force: Pulling force at 1mm/min\n"
     ]
    }
   ],
   "source": [
    "biomechanical_test_force=input(\"Provide details of the applied force: \")"
   ]
  },
  {
   "cell_type": "markdown",
   "metadata": {},
   "source": [
    "<h5> Animal study </h5>"
   ]
  },
  {
   "cell_type": "code",
   "execution_count": 114,
   "metadata": {},
   "outputs": [
    {
     "name": "stdout",
     "output_type": "stream",
     "text": [
      "Did your perform an animal study: (Yes/No)Yes\n"
     ]
    }
   ],
   "source": [
    "animal_study_performed = input(\"Did your perform an animal study: (Yes/No)\")"
   ]
  },
  {
   "cell_type": "code",
   "execution_count": 115,
   "metadata": {},
   "outputs": [
    {
     "name": "stdout",
     "output_type": "stream",
     "text": [
      "Provide details of the organism: Rabbit\n"
     ]
    }
   ],
   "source": [
    "animal_organism = input(\"Provide details of the organism: \")"
   ]
  },
  {
   "cell_type": "code",
   "execution_count": 116,
   "metadata": {},
   "outputs": [
    {
     "name": "stdout",
     "output_type": "stream",
     "text": [
      "Provide details on the species: New Zealand White\n"
     ]
    }
   ],
   "source": [
    "animal_species = input(\"Provide details on the species: \")"
   ]
  },
  {
   "cell_type": "code",
   "execution_count": 117,
   "metadata": {},
   "outputs": [
    {
     "name": "stdout",
     "output_type": "stream",
     "text": [
      "Provide details on the sex of the animal: Female\n"
     ]
    }
   ],
   "source": [
    "animal_sex = input(\"Provide details on the sex of the animal: \")"
   ]
  },
  {
   "cell_type": "code",
   "execution_count": 118,
   "metadata": {},
   "outputs": [
    {
     "name": "stdout",
     "output_type": "stream",
     "text": [
      "Provide details on the number of replicates: 24\n"
     ]
    }
   ],
   "source": [
    "animal_replicates = input(\"Provide details on the number of replicates: \")"
   ]
  },
  {
   "cell_type": "code",
   "execution_count": 119,
   "metadata": {},
   "outputs": [
    {
     "name": "stdout",
     "output_type": "stream",
     "text": [
      "Provide the number of replicates per surface: 8\n"
     ]
    }
   ],
   "source": [
    "animal_replicates_per_surface = input(\"Provide the number of replicates per surface: \")"
   ]
  },
  {
   "cell_type": "code",
   "execution_count": null,
   "metadata": {},
   "outputs": [],
   "source": []
  },
  {
   "cell_type": "code",
   "execution_count": null,
   "metadata": {},
   "outputs": [],
   "source": []
  },
  {
   "cell_type": "markdown",
   "metadata": {},
   "source": [
    "<h3> Metadata: Study results level </h3>"
   ]
  },
  {
   "cell_type": "markdown",
   "metadata": {},
   "source": [
    "<b> Surface validation </b>"
   ]
  },
  {
   "cell_type": "code",
   "execution_count": 48,
   "metadata": {},
   "outputs": [
    {
     "name": "stdout",
     "output_type": "stream",
     "text": [
      "Provide a description of the findingsOur work shows that ALP expression correlates one on one with in vitro mineralization and osteogenic marker gene expression. Moreover, we found that surfaces with low ALP expression have low bone contact and surfaces with high ALP expression have high bone contact. In agreement with the screening experiment, the cells on the positive hit topographies are confined between the structures, leading to cells resembling a network of tubes. Cross sections of confocal image stacks clearly show that the tube-like cells on the topographies are on average double the height (9.4 and 12 μm) of the cells on a flat surface (4.8 μm) and on the negative hit surface (6 μm). \n"
     ]
    }
   ],
   "source": [
    "surface_validation_description = input(\"Provide a description of the findings\")"
   ]
  },
  {
   "cell_type": "markdown",
   "metadata": {},
   "source": [
    "<b> qPCR results </b>"
   ]
  },
  {
   "cell_type": "code",
   "execution_count": 45,
   "metadata": {},
   "outputs": [
    {
     "name": "stdout",
     "output_type": "stream",
     "text": [
      "Provide a description of the main findingtotal RNA was isolated to quantify Osteopontin (OPN), osteocalcin (OCN), and bone sialoprotein (BSP) transcripts from hMSCs cultured for 5 weeks on the selected topographies in osteogenic conditions. Both ALP-high surfaces (4 and 8) showed large upregulation of gene expression relative to the non-patterned control, whereas surface 7 showed intermediate values. \n"
     ]
    }
   ],
   "source": [
    "qpcr_result_description = input(\"Provide a description of the main finding\")"
   ]
  },
  {
   "cell_type": "markdown",
   "metadata": {},
   "source": [
    "<b> Histology results </b>"
   ]
  },
  {
   "cell_type": "code",
   "execution_count": 106,
   "metadata": {},
   "outputs": [
    {
     "name": "stdout",
     "output_type": "stream",
     "text": [
      "Provide a description of the main finding: For all sections the bone-implant contact percentage (%BIC) was measured. This is defined as all areas with direct bone contact to the implant without gaps or fibrous tissue.  Non-patterned implants had a low mean BIC of around 10% at both four and eight weeks. Most non-patterned samples had large areas of fibrous tissue. SLA implants and the ALPhigh topographies, #1, #4, #8, all have a higher BIC at four weeks and a statistically significantly (ANOVA p < 0.05) higher BIC than the non-patterned implant at eight weeks.\n"
     ]
    }
   ],
   "source": [
    "histology_results_description = input(\"Provide a description of the main finding: \")"
   ]
  },
  {
   "cell_type": "markdown",
   "metadata": {},
   "source": [
    "<h5> Flow cytometry </h5>"
   ]
  },
  {
   "cell_type": "code",
   "execution_count": 105,
   "metadata": {},
   "outputs": [
    {
     "name": "stdout",
     "output_type": "stream",
     "text": [
      "Provide a description of the main finding: ALP expression was verified by flow cytometry in hMSCs after 5 days in medium without osteogenic supplements. As expected, dexamethasone induces the percentage of ALP positive hMSCs from 13 to 25%.  All 4 ALPhigh topographies have a statistically higher percentage of ALP positive cells (24–28%) compared to both the tissue culture polystyrene non-patterned control (13%) and the titanium non-patterned control (np, 18%). Further, 3 out of 4 ALP-positive surfaces display a similar or higher percentage of ALP positive cells (26–28%) than the dexamethasone supplemented positive TCPS control (25%). On the other hand, the ALPlow topographies have similar or lower percentage of ALP positive cells (13–22%) than the titanium non-patterned control (np, 18%).\n"
     ]
    }
   ],
   "source": [
    "flow_result_description = input(\"Provide a description of the main finding: \")"
   ]
  },
  {
   "cell_type": "markdown",
   "metadata": {},
   "source": [
    "<h5> Biomechanical test </h5>"
   ]
  },
  {
   "cell_type": "code",
   "execution_count": 113,
   "metadata": {},
   "outputs": [
    {
     "name": "stdout",
     "output_type": "stream",
     "text": [
      "Provide a description of the main findings: The non-patterned implants (negative control) have at both 4 and 8 weeks the lowest pull-out force. At 4 weeks, all topography-featuring implants including the commercial benchmark, require between 2 and 4 times the forces required for the non-patterned implant, with ALPhigh #1 standing out requiring over 5 times the force of the non-patterned implant. At 8 weeks, the non-patterned implant now still requires less force to be detached compared to the best scoring topography at 4 weeks. The other topography-featuring implants, including the commercial benchmark, require about 2 times the force of the non-patterned implant (all week 8). One topography statistically (ANOVA p < 0.05) outperforms the non-patterned control at 8 weeks, ALPhigh #8, requiring over 3 times the force of the non-patterned implant.\n"
     ]
    }
   ],
   "source": [
    "biomechanical_test_description = input(\"Provide a description of the main findings: \")"
   ]
  },
  {
   "cell_type": "code",
   "execution_count": null,
   "metadata": {},
   "outputs": [],
   "source": []
  },
  {
   "cell_type": "code",
   "execution_count": null,
   "metadata": {},
   "outputs": [],
   "source": []
  },
  {
   "cell_type": "code",
   "execution_count": null,
   "metadata": {},
   "outputs": [],
   "source": []
  },
  {
   "cell_type": "markdown",
   "metadata": {},
   "source": [
    "<h2> Write the documentation to a json file </h2>"
   ]
  },
  {
   "cell_type": "markdown",
   "metadata": {},
   "source": [
    "Note: this should be done only when you have filled in the fields above!"
   ]
  },
  {
   "cell_type": "markdown",
   "metadata": {},
   "source": [
    "Create the json object for the study design"
   ]
  },
  {
   "cell_type": "code",
   "execution_count": 120,
   "metadata": {},
   "outputs": [],
   "source": [
    "study_design_items=[]"
   ]
  },
  {
   "cell_type": "code",
   "execution_count": 122,
   "metadata": {},
   "outputs": [
    {
     "name": "stdout",
     "output_type": "stream",
     "text": [
      "Adding cell culture\n"
     ]
    }
   ],
   "source": [
    "if cell_culture_performed.upper() =='YES':\n",
    "    print(\"Adding cell culture\")\n",
    "    cell_culture_object={\n",
    "        'Name':'Cell culture',\n",
    "        'Cell_type':Cell_type,\n",
    "        'Passage_number':Passage_number,\n",
    "        'Medium':{\n",
    "            'Start_ampule':{\n",
    "                'Type':start_ampule_type,\n",
    "                'Medium':start_ampule_medium,\n",
    "                'Serum':start_ampule_serum,\n",
    "                'Antibiotics':start_ampule_antibiotics,\n",
    "                'Medium_components':start_ampule_components,\n",
    "                'Medium_components_concentration':start_ampule_components_concentration\n",
    "            },\n",
    "            'Seeding_medium':{\n",
    "                'Type':seeding_medium_type,\n",
    "                'Medium':seeding_medium_medium,\n",
    "                'Serum':seeding_medium_serum,\n",
    "                'Antibiotics':seeding_medium_antibiotics,\n",
    "                'Medium_components':seeding_medium_components,\n",
    "                'Medium_components_concentration':seeding_medium_components_concentration \n",
    "            }\n",
    "        }\n",
    "        \n",
    "    }\n",
    "    study_design_items.append(cell_culture_object.copy())\n",
    "    \n",
    "if biomaterials_screen_performed.upper() =='YES':\n",
    "    biomaterials_screen_object={\n",
    "        'Name':'Biomaterials screen',\n",
    "        'Type':biomaterials_screen_type,\n",
    "        'Design':biomaterials_design_type,\n",
    "        'Feature_scale':biomaterials_feature_scale,\n",
    "        'Base_material':biomaterials_base_material,\n",
    "        'Surface_treatment':biomaterials_surface_treatment,\n",
    "        'Coating':biomaterials_coating,\n",
    "        'Number_of_replicates':biomaterials_number_of_replicates,\n",
    "        'Summary':biomaterials_summary\n",
    "    }\n",
    "    study_design_items.append(biomaterials_screen_object)\n",
    "    \n",
    "if imaging_performed.upper() =='YES':\n",
    "    imaging_object={\n",
    "        'Name':\"Imaging experiment\",\n",
    "        'Type':imaging_micropscope,\n",
    "        'Date':imaging_date,\n",
    "        'Labels':{\n",
    "            'Label_1':{\n",
    "                'First_antibody':imaging_label1_first_antibody,\n",
    "                'Second_antibody':imaging_label1_second_antibody,\n",
    "                'Target':imaging_label1_target,\n",
    "                'Fluorescent dye':imaging_label1_fluorescent_dye,\n",
    "                'Excitation_wavelength':imaging_label1_excitation_wavelength,\n",
    "                'Emission_wavelength':imaging_label1_emission_wavelength\n",
    "            },\n",
    "            'Label_2':{\n",
    "                'First_antibody':imaging_label2_first_antibody,\n",
    "                'Second_antibody':imaging_label2_second_antibody,\n",
    "                'Target':imaging_label2_target,\n",
    "                'Fluorescent dye':imaging_label2_fluorescent_dye,\n",
    "                'Excitation_wavelength':imaging_label2_excitation_wavelength,\n",
    "                'Emission_wavelength':imaging_label2_emission_wavelength\n",
    "            },\n",
    "            'Label_3':{\n",
    "                'First_antibody':imaging_label3_first_antibody,\n",
    "                'Second_antibody':imaging_label3_second_antibody,\n",
    "                'Target':imaging_label3_target,\n",
    "                'Fluorescent dye':imaging_label3_fluorescent_dye,\n",
    "                'Excitation_wavelength':imaging_label3_excitation_wavelength,\n",
    "                'Emission_wavelength':imaging_label3_emission_wavelength\n",
    "            }\n",
    "        },\n",
    "        'Channel_names':imaging_channel_names\n",
    "        \n",
    "    }\n",
    "    study_design_items.append(imaging_object)\n",
    "if surface_validation_performed.upper() == \"YES\":\n",
    "    surface_exp_object={\n",
    "        'Name':'Surface validation experiment',\n",
    "        'Number_selected_surfaces':surface_validation_number_selected_surfaces,\n",
    "        'Feature_id':selected_surfaces_feature_id,\n",
    "        'Surface_id':selected_surface_id \n",
    "    }\n",
    "    study_design_items.append(surface_exp_object)\n",
    "if qpcr_performed.upper() == 'YES':\n",
    "    qpcr_object={\n",
    "        'Name':\"qPCR experiment\",\n",
    "        'Type':qpcr_experiment_type,\n",
    "        'Cell_type':qpcr_cell_type,\n",
    "        'Time_point(s)':qpr_time,\n",
    "        'Read_outs':qpcr_read_outs,        \n",
    "    }\n",
    "    study_design_items.append(qpcr_object)\n",
    "if flow_cytometry_performed.upper() == \"YES\":\n",
    "    flow_object={\n",
    "        'Name':'Flow cytometry experiment',\n",
    "        'Machine':flow_machine,\n",
    "        'Cell_seeding_density':flow_seeding_density,\n",
    "        'Culture_time':flow_culture_time,\n",
    "        'Medium':flow_medium,\n",
    "        'Staining':flow_staining,\n",
    "        'Number_of_replicates':flow_replicates\n",
    "    }\n",
    "    study_design_items.append(flow_object)\n",
    "if histology_performed.upper() == \"YES\":\n",
    "    histology_object={\n",
    "        \"Name\":\"Histology experiment\",\n",
    "        \"Slide_scanner\":histology_slide_scanner,\n",
    "        \"Staining\":histology_staining\n",
    "    }\n",
    "    study_design_items.append(histology_object)\n",
    "if biomechenical_test_performed.upper() ==\"YES\":\n",
    "    biomechanical_object={\n",
    "        \"Name\":\"Biomechanical test\",\n",
    "        \"Type\":biomechanical_test_type,\n",
    "        \"Load_cell\":biomechanical_load_cell,\n",
    "        \"Force\":biomechanical_test_force\n",
    "    }\n",
    "    study_design_items.append(biomechanical_object)\n",
    "if animal_study_performed.upper() == \"YES\":\n",
    "    animal_object={\n",
    "        \"Name\":\"Animal experiment\",\n",
    "        \"Organism\":animal_organism,\n",
    "        \"Species\":animal_species,\n",
    "        \"Sex\":animal_sex,\n",
    "        \"Replicates\":animal_replicates,\n",
    "        \"Replicates_per_condition\":animal_replicates_per_surface\n",
    "    }\n",
    "    study_design_items.append(animal_object)"
   ]
  },
  {
   "cell_type": "markdown",
   "metadata": {},
   "source": [
    "Create the json object for the study results"
   ]
  },
  {
   "cell_type": "code",
   "execution_count": 128,
   "metadata": {},
   "outputs": [],
   "source": [
    "study_results_items=[]"
   ]
  },
  {
   "cell_type": "code",
   "execution_count": 129,
   "metadata": {},
   "outputs": [],
   "source": [
    "if surface_validation_performed.upper() ==\"YES\":\n",
    "    surface_results_object={\n",
    "        'Name':'Surface validation results',\n",
    "        'Description':surface_validation_description\n",
    "    }\n",
    "    study_results_items.append(surface_results_object)\n",
    "if qpcr_performed.upper()== 'YES':\n",
    "    qpcr_results_object={\n",
    "        'Name':'qPCR results',\n",
    "        'Description':qpcr_result_description\n",
    "    }\n",
    "    study_results_items.append(qpcr_results_object)\n",
    "if histology_performed.upper()==\"YES\":\n",
    "    histology_results_object={\n",
    "        'Name':'Histology results',\n",
    "        'Description':histology_results_description\n",
    "    }\n",
    "    study_results_items.append(histology_results_object)\n",
    "if biomechenical_test_performed.upper() ==\"YES\":\n",
    "    biomechanical_results_object={\n",
    "        \"Name\":\"Biomechanical test results\",\n",
    "        \"Description\":biomechanical_test_description\n",
    "    }\n",
    "    study_results_items.append(biomechanical_results_object)\n",
    "if flow_cytometry_performed.upper() == \"YES\":\n",
    "    flow_results_object={\n",
    "        \"Name\":\"Flow cytometry results\",\n",
    "        \"Description\":flow_result_description\n",
    "    }\n",
    "    study_results_items.append(flow_results_object)"
   ]
  },
  {
   "cell_type": "markdown",
   "metadata": {},
   "source": [
    "<h3> Create the data document to store in the database </h3>"
   ]
  },
  {
   "cell_type": "code",
   "execution_count": 130,
   "metadata": {},
   "outputs": [],
   "source": [
    "document={\n",
    "    'Study_type':Study_type,\n",
    "    'ID':ID,\n",
    "    'Name':Study_Name,\n",
    "    'Project':Project,\n",
    "    'Title':Title,\n",
    "    'Lead_author':Lead_author,\n",
    "    'Principal_investigator':Principal_investigator,\n",
    "    'DOI':DOI,\n",
    "    'Date':Date,\n",
    "    'Summary':Summary,\n",
    "    'Study_design':study_design_items,\n",
    "    'Study_results':study_results_items    \n",
    "}"
   ]
  },
  {
   "cell_type": "code",
   "execution_count": 131,
   "metadata": {},
   "outputs": [
    {
     "data": {
      "text/plain": [
       "{'Study_type': 'TopoChip',\n",
       " 'ID': 'Materiomics001',\n",
       " 'Name': 'Osteoinductive surfaces',\n",
       " 'Project': 'ALP',\n",
       " 'Title': 'Mining for osteogenic surface topographies: in silico design to in vivo osseo-integration',\n",
       " 'Lead_author': 'Frits Hulshof',\n",
       " 'Principal_investigator': 'Jan de Boer',\n",
       " 'DOI': '10.1016/j.biomaterials.2017.05.020',\n",
       " 'Date': '12 May 2017',\n",
       " 'Summary': 'Stem cells respond to the physicochemical parameters of the substrate on which they grow. Quantitative material activity relationships ethe relationships between substrate parameters and the phenotypes they induce have so far poorly predicted the success of bioactive implant surfaces. In this report, we screened a library of randomly selected designed surface topographies for those inducing osteogenic differentiation of bone marrow-derived mesenchymal stem cells. Cell shape features, surface design parameters, and osteogenic marker expression were strongly correlated in vitro. Furthermore, the surfaces with the highest osteogenic potential in vitro also demonstrated their osteogenic effect in vivo: these indeed strongly enhanced bone bonding in a rabbit femur model. Our work shows that by giving stem cells specific physicochemical parameters through designed surface topographies, differentiation of these cells can be dictated.',\n",
       " 'Study_design': [{'Name': 'Cell culture',\n",
       "   'Cell_type': 'hMSC',\n",
       "   'Passage_number': 'p2 -> p3',\n",
       "   'Medium': {'Start_ampule': {'Type': 'hMSC basic medium',\n",
       "     'Medium': 'alpha mem',\n",
       "     'Serum': '10% FCS',\n",
       "     'Antibiotics': '1% P/S',\n",
       "     'Medium_components': 'L-Glutamine, L-ascorbic acid-2-phosphate',\n",
       "     'Medium_components_concentration': '2 mM, 0.2 mM'},\n",
       "    'Seeding_medium': {'Type': 'hMSC basic medium',\n",
       "     'Medium': 'alpha mem',\n",
       "     'Serum': '10% FCS',\n",
       "     'Antibiotics': '1% P/S',\n",
       "     'Medium_components': 'L-Glutamine, L-ascorbic acid-2-phosphate',\n",
       "     'Medium_components_concentration': '2mM, 0.2 mM'}}},\n",
       "  {'Name': 'Biomaterials screen',\n",
       "   'Type': 'TopoChip',\n",
       "   'Design': 'surfaces',\n",
       "   'Feature_scale': 'micrometer',\n",
       "   'Base_material': 'PLA',\n",
       "   'Surface_treatment': 'No treatment',\n",
       "   'Coating': 'Titanium',\n",
       "   'Number_of_replicates': '10',\n",
       "   'Summary': 'Poly lactic acid TopoChips coated with a 200 nm layer of Titanium. For screening, passage 4 hMSCs (Lonza) at a density of 3000 cells/cm2 were seeded onto 8 Titanium-coated TopoChips and cultured for 5 days after which nuclei (DAPI, Life technologies), filamentous actin cytoskeleton (Goat-anti-mouse-Alexa594 and Phalloidin-Alexa488, Life technologies), and non-specific alkaline phosphatase (anti-ALP, sc137213, Santa Cruz BioTech) were stained. The relationship between ALP level and cell shape, we selected the 100 highest and lowest surfaces ranked by ALP intensity. The morphological difference between positive and negative hits are analyzed in more detail by higher-resolution confocal microscopy (filamentous actin in red, DNA in green and ALP in blue, total images 12).'},\n",
       "  {'Name': 'Surface validation experiment',\n",
       "   'Number_selected_surfaces': '14',\n",
       "   'Feature_id': '11,1050,1018,1706,1147,229,494',\n",
       "   'Surface_id': 'T2-PLA-Ti-3322,T2-PLA-Ti-0205,T2-PLA-Ti-0304,T2-PLA-Ti-1642,T2-PLA-Ti-3240,T2-PLA-Ti-2702,T2-PLA-Ti-1901'},\n",
       "  {'Name': 'qPCR experiment',\n",
       "   'Type': 'RT-qPCR',\n",
       "   'Cell_type': 'hMSCs',\n",
       "   'Time_point(s)': '5 weeks',\n",
       "   'Read_outs': 'Total RNA of Osteopontin, Osteocalcin, Bone sialoprotein'},\n",
       "  {'Name': 'Flow cytometry experiment',\n",
       "   'Machine': 'FACSCalibur (BD Biosciences)',\n",
       "   'Cell_seeding_density': '3500 cells/cm2',\n",
       "   'Culture_time': '5 days',\n",
       "   'Medium': 'basic hMSC medium',\n",
       "   'Staining': 'anti-human ALP antibody labeled with a Phycoerythrin-labeled specific secondary antibody',\n",
       "   'Number_of_replicates': '3 replicates per condition'},\n",
       "  {'Name': 'Histology experiment',\n",
       "   'Slide_scanner': 'Nanozoomer, Hamamatsu',\n",
       "   'Staining': '1% methylene blue and 0.3% basic Fuchsin solution'},\n",
       "  {'Name': 'Biomechanical test',\n",
       "   'Type': 'Tensile test',\n",
       "   'Load_cell': 'Sandoo SH-200 Load cell (0-200N)',\n",
       "   'Force': 'Pulling force at 1mm/min'},\n",
       "  {'Name': 'Animal experiment',\n",
       "   'Organism': 'Rabbit',\n",
       "   'Species': 'New Zealand White',\n",
       "   'Sex': 'Female',\n",
       "   'Replicates': '24',\n",
       "   'Replicates_per_condition': '8'}],\n",
       " 'Study_results': [{'Name': 'Surface validation results',\n",
       "   'Description': 'Our work shows that ALP expression correlates one on one with in vitro mineralization and osteogenic marker gene expression. Moreover, we found that surfaces with low ALP expression have low bone contact and surfaces with high ALP expression have high bone contact. In agreement with the screening experiment, the cells on the positive hit topographies are confined between the structures, leading to cells resembling a network of tubes. Cross sections of confocal image stacks clearly show that the tube-like cells on the topographies are on average double the height (9.4 and 12 μm) of the cells on a flat surface (4.8 μm) and on the negative hit surface (6 μm). '},\n",
       "  {'Name': 'qPCR results',\n",
       "   'Description': 'total RNA was isolated to quantify Osteopontin (OPN), osteocalcin (OCN), and bone sialoprotein (BSP) transcripts from hMSCs cultured for 5 weeks on the selected topographies in osteogenic conditions. Both ALP-high surfaces (4 and 8) showed large upregulation of gene expression relative to the non-patterned control, whereas surface 7 showed intermediate values. '},\n",
       "  {'Name': 'Histology results',\n",
       "   'Description': 'For all sections the bone-implant contact percentage (%BIC) was measured. This is defined as all areas with direct bone contact to the implant without gaps or fibrous tissue.  Non-patterned implants had a low mean BIC of around 10% at both four and eight weeks. Most non-patterned samples had large areas of fibrous tissue. SLA implants and the ALPhigh topographies, #1, #4, #8, all have a higher BIC at four weeks and a statistically significantly (ANOVA p < 0.05) higher BIC than the non-patterned implant at eight weeks.'},\n",
       "  {'Name': 'Biomechanical test results',\n",
       "   'Description': 'The non-patterned implants (negative control) have at both 4 and 8 weeks the lowest pull-out force. At 4 weeks, all topography-featuring implants including the commercial benchmark, require between 2 and 4 times the forces required for the non-patterned implant, with ALPhigh #1 standing out requiring over 5 times the force of the non-patterned implant. At 8 weeks, the non-patterned implant now still requires less force to be detached compared to the best scoring topography at 4 weeks. The other topography-featuring implants, including the commercial benchmark, require about 2 times the force of the non-patterned implant (all week 8). One topography statistically (ANOVA p < 0.05) outperforms the non-patterned control at 8 weeks, ALPhigh #8, requiring over 3 times the force of the non-patterned implant.'},\n",
       "  {'Name': 'Flow cytometry results',\n",
       "   'Description': 'ALP expression was verified by flow cytometry in hMSCs after 5 days in medium without osteogenic supplements. As expected, dexamethasone induces the percentage of ALP positive hMSCs from 13 to 25%.  All 4 ALPhigh topographies have a statistically higher percentage of ALP positive cells (24–28%) compared to both the tissue culture polystyrene non-patterned control (13%) and the titanium non-patterned control (np, 18%). Further, 3 out of 4 ALP-positive surfaces display a similar or higher percentage of ALP positive cells (26–28%) than the dexamethasone supplemented positive TCPS control (25%). On the other hand, the ALPlow topographies have similar or lower percentage of ALP positive cells (13–22%) than the titanium non-patterned control (np, 18%).'}]}"
      ]
     },
     "execution_count": 131,
     "metadata": {},
     "output_type": "execute_result"
    }
   ],
   "source": [
    "document"
   ]
  },
  {
   "cell_type": "markdown",
   "metadata": {},
   "source": [
    "<h5> write to json file </h5>"
   ]
  },
  {
   "cell_type": "markdown",
   "metadata": {},
   "source": [
    "Please give a new to save the json object"
   ]
  },
  {
   "cell_type": "code",
   "execution_count": 132,
   "metadata": {},
   "outputs": [],
   "source": [
    "file_name=\"ALP_BMA.json\""
   ]
  },
  {
   "cell_type": "code",
   "execution_count": 133,
   "metadata": {},
   "outputs": [],
   "source": [
    "import json"
   ]
  },
  {
   "cell_type": "code",
   "execution_count": 134,
   "metadata": {},
   "outputs": [],
   "source": [
    "with open(file_name, 'w') as outfile:\n",
    "    json.dump(document, outfile)"
   ]
  },
  {
   "cell_type": "code",
   "execution_count": null,
   "metadata": {},
   "outputs": [],
   "source": []
  }
 ],
 "metadata": {
  "kernelspec": {
   "display_name": "Python 3",
   "language": "python",
   "name": "python3"
  },
  "language_info": {
   "codemirror_mode": {
    "name": "ipython",
    "version": 3
   },
   "file_extension": ".py",
   "mimetype": "text/x-python",
   "name": "python",
   "nbconvert_exporter": "python",
   "pygments_lexer": "ipython3",
   "version": "3.8.5"
  }
 },
 "nbformat": 4,
 "nbformat_minor": 4
}
