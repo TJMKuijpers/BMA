{
 "cells": [
  {
   "cell_type": "markdown",
   "metadata": {},
   "source": [
    "<h3> Biomaterial Atlas: add a biomaterials screen </h3>"
   ]
  },
  {
   "cell_type": "markdown",
   "metadata": {},
   "source": [
    "<p> This Jupyter notebook will guide you through the metadata fields of the Data Document Model (DDM) for a biomaterials screen. </p>\n",
    "\n",
    "<p> Every keyword will be given a value based on your input. In this Jupyter Notebook, you have to evaluate a cell before you can type a value. In this way, you can always rerun a cell if you believe there are some spelling errors or general mistakes.<p>"
   ]
  },
  {
   "cell_type": "code",
   "execution_count": null,
   "metadata": {},
   "outputs": [],
   "source": [
    "import ipywidgets as widgets"
   ]
  },
  {
   "cell_type": "markdown",
   "metadata": {},
   "source": [
    "<h3> Metadata: Project level </h3>"
   ]
  },
  {
   "cell_type": "markdown",
   "metadata": {},
   "source": [
    "Provide the study type"
   ]
  },
  {
   "cell_type": "code",
   "execution_count": null,
   "metadata": {},
   "outputs": [],
   "source": [
    "Study= widgets.Dropdown(\n",
    "    options=[('Biomaterials Screen', 'Biomaterials Screen'), ('Heartvalve study', 'Heartvalve study')],\n",
    "    value='Biomaterials Screen',\n",
    "    description='Study type:',\n",
    ")\n",
    "display(Study)\n",
    "\n"
   ]
  },
  {
   "cell_type": "code",
   "execution_count": null,
   "metadata": {},
   "outputs": [],
   "source": [
    "Study_type = Study.value\n",
    "print('You selected the study type: %s' % Study_type)"
   ]
  },
  {
   "cell_type": "code",
   "execution_count": null,
   "metadata": {},
   "outputs": [],
   "source": [
    "ID = input('Provide the study ID: ')"
   ]
  },
  {
   "cell_type": "code",
   "execution_count": null,
   "metadata": {},
   "outputs": [],
   "source": [
    "Study_Name=input('Provide  the study name (2 keywords): ')"
   ]
  },
  {
   "cell_type": "code",
   "execution_count": null,
   "metadata": {},
   "outputs": [],
   "source": [
    "Project=input(\"Provide the project name: \")"
   ]
  },
  {
   "cell_type": "code",
   "execution_count": null,
   "metadata": {},
   "outputs": [],
   "source": [
    "Title=input(\"Provide the title of the study (publication title if applicable): \")"
   ]
  },
  {
   "cell_type": "code",
   "execution_count": null,
   "metadata": {},
   "outputs": [],
   "source": [
    "Lead_author=input(\"Provide  the first and last name of the lead author: \")\n"
   ]
  },
  {
   "cell_type": "code",
   "execution_count": null,
   "metadata": {},
   "outputs": [],
   "source": [
    "Principal_investigator=input(\"Provide  the first and last name of the PI: \")"
   ]
  },
  {
   "cell_type": "code",
   "execution_count": null,
   "metadata": {},
   "outputs": [],
   "source": [
    "DOI=input(\"Provide  the DOI: (if not applicable type N/A): \")"
   ]
  },
  {
   "cell_type": "code",
   "execution_count": null,
   "metadata": {},
   "outputs": [],
   "source": [
    "Date=input(\"Provide the date of the study: \")"
   ]
  },
  {
   "cell_type": "markdown",
   "metadata": {},
   "source": [
    "<b> Summary: </b> the summary gives the overal findings and conclusion of the paper. This can be seen as a short abstract of the study"
   ]
  },
  {
   "cell_type": "code",
   "execution_count": null,
   "metadata": {},
   "outputs": [],
   "source": [
    "Summary=input(\"Provide  the summary of the study: \")"
   ]
  },
  {
   "cell_type": "markdown",
   "metadata": {},
   "source": [
    "<h3> Metadata: Study design level </h3>"
   ]
  },
  {
   "cell_type": "markdown",
   "metadata": {},
   "source": [
    "<h5> Cell Culture </h5>"
   ]
  },
  {
   "cell_type": "code",
   "execution_count": null,
   "metadata": {},
   "outputs": [],
   "source": [
    "cell_culture_performed = input(\"Did you perform a cell culture? (Yes or No) \")"
   ]
  },
  {
   "cell_type": "code",
   "execution_count": null,
   "metadata": {},
   "outputs": [],
   "source": [
    "Cell_type = input(\"Provide  the cell type: \")"
   ]
  },
  {
   "cell_type": "code",
   "execution_count": null,
   "metadata": {},
   "outputs": [],
   "source": [
    "Passage_number = input(\"Provide  the passage number: \")"
   ]
  },
  {
   "cell_type": "markdown",
   "metadata": {},
   "source": [
    "Please provide the details of the start ampule culture medium and the seeding medium"
   ]
  },
  {
   "cell_type": "code",
   "execution_count": null,
   "metadata": {},
   "outputs": [],
   "source": [
    "start_ampule_type = input(\"Provide  the type of the start ampule\")"
   ]
  },
  {
   "cell_type": "code",
   "execution_count": null,
   "metadata": {},
   "outputs": [],
   "source": [
    "start_ampule_medium = input(\"Provide  the medium name: \")"
   ]
  },
  {
   "cell_type": "code",
   "execution_count": null,
   "metadata": {},
   "outputs": [],
   "source": [
    "start_ampule_serum = input(\"Provide the serum details\")"
   ]
  },
  {
   "cell_type": "code",
   "execution_count": null,
   "metadata": {},
   "outputs": [],
   "source": [
    "start_ampule_antibiotics=input('Provide  the type of antibiotics used: (type none if not used) ')"
   ]
  },
  {
   "cell_type": "code",
   "execution_count": null,
   "metadata": {},
   "outputs": [],
   "source": [
    "start_ampule_components = input(\"Provide  the medium components: \")"
   ]
  },
  {
   "cell_type": "code",
   "execution_count": null,
   "metadata": {},
   "outputs": [],
   "source": [
    "start_ampule_components_concentration = input(\"Provide  the concentration of the components: \")"
   ]
  },
  {
   "cell_type": "code",
   "execution_count": null,
   "metadata": {},
   "outputs": [],
   "source": [
    "seeding_medium_type = input(\"Provide the seeding medium type: \")"
   ]
  },
  {
   "cell_type": "code",
   "execution_count": null,
   "metadata": {},
   "outputs": [],
   "source": [
    "seeding_medium_medium = input(\"Provide the medium details: \")"
   ]
  },
  {
   "cell_type": "code",
   "execution_count": null,
   "metadata": {},
   "outputs": [],
   "source": [
    "seeding_medium_serum = input(\"Provide the serum details: \")"
   ]
  },
  {
   "cell_type": "code",
   "execution_count": null,
   "metadata": {},
   "outputs": [],
   "source": [
    "seeding_medium_antibiotics = input(\"Provide the type of antibiotics used: (type none if not used) \")"
   ]
  },
  {
   "cell_type": "code",
   "execution_count": null,
   "metadata": {},
   "outputs": [],
   "source": [
    "seeding_medium_components = input(\"Provide the components: \")"
   ]
  },
  {
   "cell_type": "code",
   "execution_count": null,
   "metadata": {},
   "outputs": [],
   "source": [
    "seeding_medium_components_concentration = input(\"Provide the components concentration: \")"
   ]
  },
  {
   "cell_type": "markdown",
   "metadata": {},
   "source": [
    "<h5> Biomaterials screen details </h5>"
   ]
  },
  {
   "cell_type": "code",
   "execution_count": null,
   "metadata": {},
   "outputs": [],
   "source": [
    "biomaterials_screen_performed = input(\"Did you perform a screen? (Yes or No) \")"
   ]
  },
  {
   "cell_type": "code",
   "execution_count": null,
   "metadata": {},
   "outputs": [],
   "source": [
    "biomaterials_screen_type = input(\"Provide the screening type: \")"
   ]
  },
  {
   "cell_type": "code",
   "execution_count": null,
   "metadata": {},
   "outputs": [],
   "source": [
    "biomaterials_design_type = input(\"Provide the design type: \")"
   ]
  },
  {
   "cell_type": "code",
   "execution_count": null,
   "metadata": {},
   "outputs": [],
   "source": [
    "biomaterials_feature_scale = input(\"Provide the scale of the platform: \")"
   ]
  },
  {
   "cell_type": "code",
   "execution_count": null,
   "metadata": {},
   "outputs": [],
   "source": [
    "biomaterials_base_material = input(\"Provide the base material information: \")"
   ]
  },
  {
   "cell_type": "code",
   "execution_count": null,
   "metadata": {},
   "outputs": [],
   "source": [
    "biomaterials_surface_treatment = input(\"Provide the details on surface treatment (N/A if not applicable): \")"
   ]
  },
  {
   "cell_type": "code",
   "execution_count": null,
   "metadata": {},
   "outputs": [],
   "source": [
    "biomaterials_coating = input(\"Provide details on the material coating: \")"
   ]
  },
  {
   "cell_type": "code",
   "execution_count": null,
   "metadata": {},
   "outputs": [],
   "source": [
    "biomaterials_number_of_replicates = input(\"Provide the number of replicates: \")"
   ]
  },
  {
   "cell_type": "code",
   "execution_count": null,
   "metadata": {},
   "outputs": [],
   "source": [
    "biomaterials_summary = input(\"Provide a summary of the experiment: \")"
   ]
  },
  {
   "cell_type": "markdown",
   "metadata": {},
   "source": [
    "<h5> Fluorescence imaging metadata </h5>"
   ]
  },
  {
   "cell_type": "code",
   "execution_count": null,
   "metadata": {},
   "outputs": [],
   "source": [
    "imaging_performed = input(\"Did you perform an imaging experiment: (Yes or No) \")"
   ]
  },
  {
   "cell_type": "code",
   "execution_count": null,
   "metadata": {},
   "outputs": [],
   "source": [
    "imaging_micropscope = input(\"Provide the microscope type: \")"
   ]
  },
  {
   "cell_type": "code",
   "execution_count": null,
   "metadata": {},
   "outputs": [],
   "source": [
    "imaging_date = input(\"Provide the date of the experiment: \")"
   ]
  },
  {
   "cell_type": "markdown",
   "metadata": {},
   "source": [
    "Now you need to provide the label information for each label used. By default, this template assumes you have three labels."
   ]
  },
  {
   "cell_type": "code",
   "execution_count": null,
   "metadata": {},
   "outputs": [],
   "source": [
    "imaging_label1_first_antibody = input(\"Give the first antibody for label 1: \")"
   ]
  },
  {
   "cell_type": "code",
   "execution_count": null,
   "metadata": {},
   "outputs": [],
   "source": [
    "imaging_label1_second_antibody = input(\"Give the second antibody for label 1: \")"
   ]
  },
  {
   "cell_type": "code",
   "execution_count": null,
   "metadata": {},
   "outputs": [],
   "source": [
    "imaging_label1_target = input(\"Give the target for label 1: \")"
   ]
  },
  {
   "cell_type": "code",
   "execution_count": null,
   "metadata": {},
   "outputs": [],
   "source": [
    "imaging_label1_fluorescent_dye = input(\"Give the fluorescent dye for label 1: \")"
   ]
  },
  {
   "cell_type": "code",
   "execution_count": null,
   "metadata": {},
   "outputs": [],
   "source": [
    "imaging_label1_excitation_wavelength = input(\"Give the excitation wavelength for label 1: \")"
   ]
  },
  {
   "cell_type": "code",
   "execution_count": null,
   "metadata": {},
   "outputs": [],
   "source": [
    "imaging_label1_emission_wavelength = input(\"Give the emission wavelength for label 1: \")"
   ]
  },
  {
   "cell_type": "code",
   "execution_count": null,
   "metadata": {},
   "outputs": [],
   "source": [
    "imaging_label2_first_antibody = input(\"Give the first antibody for label 1: \")"
   ]
  },
  {
   "cell_type": "code",
   "execution_count": null,
   "metadata": {},
   "outputs": [],
   "source": [
    "imaging_label2_second_antibody = input(\"Give the second antibody for label 1: \")"
   ]
  },
  {
   "cell_type": "code",
   "execution_count": null,
   "metadata": {},
   "outputs": [],
   "source": [
    "imaging_label2_target = input(\"Give the target for label 1: \")"
   ]
  },
  {
   "cell_type": "code",
   "execution_count": null,
   "metadata": {},
   "outputs": [],
   "source": [
    "imaging_label2_fluorescent_dye = input(\"Give the fluorescent dye for label 1: \")"
   ]
  },
  {
   "cell_type": "code",
   "execution_count": null,
   "metadata": {},
   "outputs": [],
   "source": [
    "imaging_label2_excitation_wavelength = input(\"Give the excitation wavelength for label 1: \")"
   ]
  },
  {
   "cell_type": "code",
   "execution_count": null,
   "metadata": {},
   "outputs": [],
   "source": [
    "imaging_label2_emission_wavelength = input(\"Give the emission wavelength for label 1: \")"
   ]
  },
  {
   "cell_type": "code",
   "execution_count": null,
   "metadata": {},
   "outputs": [],
   "source": [
    "imaging_label3_first_antibody = input(\"Give the first antibody for label 1: \")"
   ]
  },
  {
   "cell_type": "code",
   "execution_count": null,
   "metadata": {},
   "outputs": [],
   "source": [
    "imaging_label3_second_antibody = input(\"Give the second antibody for label 1: \")"
   ]
  },
  {
   "cell_type": "code",
   "execution_count": null,
   "metadata": {},
   "outputs": [],
   "source": [
    "imaging_label3_target = input(\"Give the target for label 1: \")"
   ]
  },
  {
   "cell_type": "code",
   "execution_count": null,
   "metadata": {},
   "outputs": [],
   "source": [
    "imaging_label3_fluorescent_dye = input(\"Give the fluorescent dye for label 1: \")"
   ]
  },
  {
   "cell_type": "code",
   "execution_count": null,
   "metadata": {},
   "outputs": [],
   "source": [
    "imaging_label3_excitation_wavelength = input(\"Give the excitation wavelength for label 1: \")"
   ]
  },
  {
   "cell_type": "code",
   "execution_count": null,
   "metadata": {},
   "outputs": [],
   "source": [
    "imaging_label3_emission_wavelength = input(\"Give the emission wavelength for label 1: \")"
   ]
  },
  {
   "cell_type": "code",
   "execution_count": null,
   "metadata": {},
   "outputs": [],
   "source": [
    "imaging_channel_names = input(\"Give the name for each channel: \")"
   ]
  },
  {
   "cell_type": "markdown",
   "metadata": {},
   "source": [
    "<h5> Surface validation </h5>"
   ]
  },
  {
   "cell_type": "code",
   "execution_count": null,
   "metadata": {},
   "outputs": [],
   "source": [
    "surface_validation_performed = input(\"Did you perform a validation study: (Yes or No) \")"
   ]
  },
  {
   "cell_type": "code",
   "execution_count": null,
   "metadata": {},
   "outputs": [],
   "source": [
    "surface_validation_number_selected_surfaces = input(\"Provide the number of selected surfaces for validation: \")"
   ]
  },
  {
   "cell_type": "code",
   "execution_count": null,
   "metadata": {},
   "outputs": [],
   "source": [
    "selected_surfaces_feature_id = input(\"Provide the surface feature id: \")"
   ]
  },
  {
   "cell_type": "code",
   "execution_count": null,
   "metadata": {},
   "outputs": [],
   "source": [
    "selected_surface_id = input(\"Provide the surface id (if they do not match the feature id): \")"
   ]
  },
  {
   "cell_type": "markdown",
   "metadata": {},
   "source": [
    "<h5> qPCR experiment </h5>"
   ]
  },
  {
   "cell_type": "code",
   "execution_count": null,
   "metadata": {},
   "outputs": [],
   "source": [
    "qpcr_performed = input(\"Did you perform a qpcr: (Yes or No) \")"
   ]
  },
  {
   "cell_type": "code",
   "execution_count": null,
   "metadata": {},
   "outputs": [],
   "source": [
    "qpcr_experiment_type = input('Provide the experiment type: ')"
   ]
  },
  {
   "cell_type": "code",
   "execution_count": null,
   "metadata": {},
   "outputs": [],
   "source": [
    "qpcr_cell_type = input('Provide the cell type: ')"
   ]
  },
  {
   "cell_type": "code",
   "execution_count": null,
   "metadata": {},
   "outputs": [],
   "source": [
    "qpr_time = input('Provide the time point(s): ')"
   ]
  },
  {
   "cell_type": "code",
   "execution_count": null,
   "metadata": {},
   "outputs": [],
   "source": [
    "qpcr_read_outs = input(\"Provide the read outs: \")"
   ]
  },
  {
   "cell_type": "code",
   "execution_count": null,
   "metadata": {},
   "outputs": [],
   "source": [
    "#qpcr_genes = input(\"Provide the gene names measured: \")"
   ]
  },
  {
   "cell_type": "markdown",
   "metadata": {},
   "source": [
    "<h5> Histology experiment </h5>"
   ]
  },
  {
   "cell_type": "code",
   "execution_count": null,
   "metadata": {},
   "outputs": [],
   "source": [
    "histology_performed=input(\"Did you perfrom a histology experiment? (Yes/No) \")"
   ]
  },
  {
   "cell_type": "code",
   "execution_count": null,
   "metadata": {},
   "outputs": [],
   "source": [
    "histology_slide_scanner = input(\"Provide the name of the slide scanner: \")"
   ]
  },
  {
   "cell_type": "code",
   "execution_count": null,
   "metadata": {},
   "outputs": [],
   "source": [
    "histology_staining = input(\"Provide information on the performed staining: \")"
   ]
  },
  {
   "cell_type": "markdown",
   "metadata": {},
   "source": [
    "<h5> Flow cytometry </h5>"
   ]
  },
  {
   "cell_type": "code",
   "execution_count": null,
   "metadata": {},
   "outputs": [],
   "source": [
    "flow_cytometry_performed = input(\"Did you perform a flow cytometry experiment:  (Yes/No)\")"
   ]
  },
  {
   "cell_type": "code",
   "execution_count": null,
   "metadata": {},
   "outputs": [],
   "source": [
    "flow_seeding_density = input(\"Provide the cell seeding  density: \")"
   ]
  },
  {
   "cell_type": "code",
   "execution_count": null,
   "metadata": {},
   "outputs": [],
   "source": [
    "flow_culture_time = input(\"Provide the culture time: \")"
   ]
  },
  {
   "cell_type": "code",
   "execution_count": null,
   "metadata": {},
   "outputs": [],
   "source": [
    "flow_medium = input(\"Provide details of the medium: \")"
   ]
  },
  {
   "cell_type": "code",
   "execution_count": null,
   "metadata": {},
   "outputs": [],
   "source": [
    "flow_staining = input(\"Provide details of the staining: \")"
   ]
  },
  {
   "cell_type": "code",
   "execution_count": null,
   "metadata": {},
   "outputs": [],
   "source": [
    "flow_machine = input(\"Provide the name of the flow cytometry machine: \")"
   ]
  },
  {
   "cell_type": "code",
   "execution_count": null,
   "metadata": {},
   "outputs": [],
   "source": [
    "flow_replicates = input(\"Provide the number of replicates: \")"
   ]
  },
  {
   "cell_type": "markdown",
   "metadata": {},
   "source": [
    "<h5> Biomechanical test </h5>"
   ]
  },
  {
   "cell_type": "code",
   "execution_count": null,
   "metadata": {},
   "outputs": [],
   "source": [
    "biomechenical_test_performed=input(\"Did your perform a biomechanical test: (Yes/No)\")"
   ]
  },
  {
   "cell_type": "code",
   "execution_count": null,
   "metadata": {},
   "outputs": [],
   "source": [
    "biomechanical_test_type=input(\"Provide details on the type of biomechanical test: \")"
   ]
  },
  {
   "cell_type": "code",
   "execution_count": null,
   "metadata": {},
   "outputs": [],
   "source": [
    "biomechanical_load_cell=input(\"Provide details on the load cell: \")"
   ]
  },
  {
   "cell_type": "code",
   "execution_count": null,
   "metadata": {},
   "outputs": [],
   "source": [
    "biomechanical_test_force=input(\"Provide details of the applied force: \")"
   ]
  },
  {
   "cell_type": "markdown",
   "metadata": {},
   "source": [
    "<h5> Animal study </h5>"
   ]
  },
  {
   "cell_type": "code",
   "execution_count": null,
   "metadata": {},
   "outputs": [],
   "source": [
    "animal_study_performed = input(\"Did your perform an animal study: (Yes/No)\")"
   ]
  },
  {
   "cell_type": "code",
   "execution_count": null,
   "metadata": {},
   "outputs": [],
   "source": [
    "animal_organism = input(\"Provide details of the organism: \")"
   ]
  },
  {
   "cell_type": "code",
   "execution_count": null,
   "metadata": {},
   "outputs": [],
   "source": [
    "animal_species = input(\"Provide details on the species: \")"
   ]
  },
  {
   "cell_type": "code",
   "execution_count": null,
   "metadata": {},
   "outputs": [],
   "source": [
    "animal_sex = input(\"Provide details on the sex of the animal: \")"
   ]
  },
  {
   "cell_type": "code",
   "execution_count": null,
   "metadata": {},
   "outputs": [],
   "source": [
    "animal_replicates = input(\"Provide details on the number of replicates: \")"
   ]
  },
  {
   "cell_type": "code",
   "execution_count": null,
   "metadata": {},
   "outputs": [],
   "source": [
    "animal_replicates_per_surface = input(\"Provide the number of replicates per surface: \")"
   ]
  },
  {
   "cell_type": "code",
   "execution_count": null,
   "metadata": {},
   "outputs": [],
   "source": []
  },
  {
   "cell_type": "code",
   "execution_count": null,
   "metadata": {},
   "outputs": [],
   "source": []
  },
  {
   "cell_type": "markdown",
   "metadata": {},
   "source": [
    "<h3> Metadata: Study results level </h3>"
   ]
  },
  {
   "cell_type": "markdown",
   "metadata": {},
   "source": [
    "<b> Surface validation </b>"
   ]
  },
  {
   "cell_type": "code",
   "execution_count": null,
   "metadata": {},
   "outputs": [],
   "source": [
    "surface_validation_description = input(\"Provide a description of the findings\")"
   ]
  },
  {
   "cell_type": "markdown",
   "metadata": {},
   "source": [
    "<b> qPCR results </b>"
   ]
  },
  {
   "cell_type": "code",
   "execution_count": null,
   "metadata": {},
   "outputs": [],
   "source": [
    "qpcr_result_description = input(\"Provide a description of the main finding\")"
   ]
  },
  {
   "cell_type": "markdown",
   "metadata": {},
   "source": [
    "<b> Histology results </b>"
   ]
  },
  {
   "cell_type": "code",
   "execution_count": null,
   "metadata": {},
   "outputs": [],
   "source": [
    "histology_results_description = input(\"Provide a description of the main finding: \")"
   ]
  },
  {
   "cell_type": "markdown",
   "metadata": {},
   "source": [
    "<h5> Flow cytometry </h5>"
   ]
  },
  {
   "cell_type": "code",
   "execution_count": null,
   "metadata": {},
   "outputs": [],
   "source": [
    "flow_result_description = input(\"Provide a description of the main finding: \")"
   ]
  },
  {
   "cell_type": "markdown",
   "metadata": {},
   "source": [
    "<h5> Biomechanical test </h5>"
   ]
  },
  {
   "cell_type": "code",
   "execution_count": null,
   "metadata": {},
   "outputs": [],
   "source": [
    "biomechanical_test_description = input(\"Provide a description of the main findings: \")"
   ]
  },
  {
   "cell_type": "code",
   "execution_count": null,
   "metadata": {},
   "outputs": [],
   "source": []
  },
  {
   "cell_type": "code",
   "execution_count": null,
   "metadata": {},
   "outputs": [],
   "source": []
  },
  {
   "cell_type": "code",
   "execution_count": null,
   "metadata": {},
   "outputs": [],
   "source": []
  },
  {
   "cell_type": "markdown",
   "metadata": {},
   "source": [
    "<h2> Write the documentation to a json file </h2>"
   ]
  },
  {
   "cell_type": "markdown",
   "metadata": {},
   "source": [
    "Note: this should be done only when you have filled in the fields above!"
   ]
  },
  {
   "cell_type": "markdown",
   "metadata": {},
   "source": [
    "Create the json object for the study design"
   ]
  },
  {
   "cell_type": "code",
   "execution_count": null,
   "metadata": {},
   "outputs": [],
   "source": [
    "study_design_items=[]"
   ]
  },
  {
   "cell_type": "code",
   "execution_count": null,
   "metadata": {},
   "outputs": [],
   "source": [
    "if cell_culture_performed.upper() =='YES':\n",
    "    print(\"Adding cell culture\")\n",
    "    cell_culture_object={\n",
    "        'Name':'Cell culture',\n",
    "        'Cell_type':Cell_type,\n",
    "        'Passage_number':Passage_number,\n",
    "        'Medium':{\n",
    "            'Start_ampule':{\n",
    "                'Type':start_ampule_type,\n",
    "                'Medium':start_ampule_medium,\n",
    "                'Serum':start_ampule_serum,\n",
    "                'Antibiotics':start_ampule_antibiotics,\n",
    "                'Medium_components':start_ampule_components,\n",
    "                'Medium_components_concentration':start_ampule_components_concentration\n",
    "            },\n",
    "            'Seeding_medium':{\n",
    "                'Type':seeding_medium_type,\n",
    "                'Medium':seeding_medium_medium,\n",
    "                'Serum':seeding_medium_serum,\n",
    "                'Antibiotics':seeding_medium_antibiotics,\n",
    "                'Medium_components':seeding_medium_components,\n",
    "                'Medium_components_concentration':seeding_medium_components_concentration \n",
    "            }\n",
    "        }\n",
    "        \n",
    "    }\n",
    "    study_design_items.append(cell_culture_object.copy())\n",
    "    \n",
    "if biomaterials_screen_performed.upper() =='YES':\n",
    "    biomaterials_screen_object={\n",
    "        'Name':'Biomaterials screen',\n",
    "        'Type':biomaterials_screen_type,\n",
    "        'Design':biomaterials_design_type,\n",
    "        'Feature_scale':biomaterials_feature_scale,\n",
    "        'Base_material':biomaterials_base_material,\n",
    "        'Surface_treatment':biomaterials_surface_treatment,\n",
    "        'Coating':biomaterials_coating,\n",
    "        'Number_of_replicates':biomaterials_number_of_replicates,\n",
    "        'Summary':biomaterials_summary\n",
    "    }\n",
    "    study_design_items.append(biomaterials_screen_object)\n",
    "    \n",
    "if imaging_performed.upper() =='YES':\n",
    "    imaging_object={\n",
    "        'Name':\"Imaging experiment\",\n",
    "        'Type':imaging_micropscope,\n",
    "        'Date':imaging_date,\n",
    "        'Labels':{\n",
    "            'Label_1':{\n",
    "                'First_antibody':imaging_label1_first_antibody,\n",
    "                'Second_antibody':imaging_label1_second_antibody,\n",
    "                'Target':imaging_label1_target,\n",
    "                'Fluorescent dye':imaging_label1_fluorescent_dye,\n",
    "                'Excitation_wavelength':imaging_label1_excitation_wavelength,\n",
    "                'Emission_wavelength':imaging_label1_emission_wavelength\n",
    "            },\n",
    "            'Label_2':{\n",
    "                'First_antibody':imaging_label2_first_antibody,\n",
    "                'Second_antibody':imaging_label2_second_antibody,\n",
    "                'Target':imaging_label2_target,\n",
    "                'Fluorescent dye':imaging_label2_fluorescent_dye,\n",
    "                'Excitation_wavelength':imaging_label2_excitation_wavelength,\n",
    "                'Emission_wavelength':imaging_label2_emission_wavelength\n",
    "            },\n",
    "            'Label_3':{\n",
    "                'First_antibody':imaging_label3_first_antibody,\n",
    "                'Second_antibody':imaging_label3_second_antibody,\n",
    "                'Target':imaging_label3_target,\n",
    "                'Fluorescent dye':imaging_label3_fluorescent_dye,\n",
    "                'Excitation_wavelength':imaging_label3_excitation_wavelength,\n",
    "                'Emission_wavelength':imaging_label3_emission_wavelength\n",
    "            }\n",
    "        },\n",
    "        'Channel_names':imaging_channel_names\n",
    "        \n",
    "    }\n",
    "    study_design_items.append(imaging_object)\n",
    "if surface_validation_performed.upper() == \"YES\":\n",
    "    surface_exp_object={\n",
    "        'Name':'Surface validation experiment',\n",
    "        'Number_selected_surfaces':surface_validation_number_selected_surfaces,\n",
    "        'Feature_id':selected_surfaces_feature_id,\n",
    "        'Surface_id':selected_surface_id \n",
    "    }\n",
    "    study_design_items.append(surface_exp_object)\n",
    "if qpcr_performed.upper() == 'YES':\n",
    "    qpcr_object={\n",
    "        'Name':\"qPCR experiment\",\n",
    "        'Type':qpcr_experiment_type,\n",
    "        'Cell_type':qpcr_cell_type,\n",
    "        'Time_point(s)':qpr_time,\n",
    "        'Read_outs':qpcr_read_outs,        \n",
    "    }\n",
    "    study_design_items.append(qpcr_object)\n",
    "if flow_cytometry_performed.upper() == \"YES\":\n",
    "    flow_object={\n",
    "        'Name':'Flow cytometry experiment',\n",
    "        'Machine':flow_machine,\n",
    "        'Cell_seeding_density':flow_seeding_density,\n",
    "        'Culture_time':flow_culture_time,\n",
    "        'Medium':flow_medium,\n",
    "        'Staining':flow_staining,\n",
    "        'Number_of_replicates':flow_replicates\n",
    "    }\n",
    "    study_design_items.append(flow_object)\n",
    "if histology_performed.upper() == \"YES\":\n",
    "    histology_object={\n",
    "        \"Name\":\"Histology experiment\",\n",
    "        \"Slide_scanner\":histology_slide_scanner,\n",
    "        \"Staining\":histology_staining\n",
    "    }\n",
    "    study_design_items.append(histology_object)\n",
    "if biomechenical_test_performed.upper() ==\"YES\":\n",
    "    biomechanical_object={\n",
    "        \"Name\":\"Biomechanical test\",\n",
    "        \"Type\":biomechanical_test_type,\n",
    "        \"Load_cell\":biomechanical_load_cell,\n",
    "        \"Force\":biomechanical_test_force\n",
    "    }\n",
    "    study_design_items.append(biomechanical_object)\n",
    "if animal_study_performed.upper() == \"YES\":\n",
    "    animal_object={\n",
    "        \"Name\":\"Animal experiment\",\n",
    "        \"Organism\":animal_organism,\n",
    "        \"Species\":animal_species,\n",
    "        \"Sex\":animal_sex,\n",
    "        \"Replicates\":animal_replicates,\n",
    "        \"Replicates_per_condition\":animal_replicates_per_surface\n",
    "    }\n",
    "    study_design_items.append(animal_object)"
   ]
  },
  {
   "cell_type": "markdown",
   "metadata": {},
   "source": [
    "Create the json object for the study results"
   ]
  },
  {
   "cell_type": "code",
   "execution_count": null,
   "metadata": {},
   "outputs": [],
   "source": [
    "study_results_items=[]"
   ]
  },
  {
   "cell_type": "code",
   "execution_count": null,
   "metadata": {},
   "outputs": [],
   "source": [
    "if surface_validation_performed.upper() ==\"YES\":\n",
    "    surface_results_object={\n",
    "        'Name':'Surface validation results',\n",
    "        'Description':surface_validation_description\n",
    "    }\n",
    "    study_results_items.append(surface_results_object)\n",
    "if qpcr_performed.upper()== 'YES':\n",
    "    qpcr_results_object={\n",
    "        'Name':'qPCR results',\n",
    "        'Description':qpcr_result_description\n",
    "    }\n",
    "    study_results_items.append(qpcr_results_object)\n",
    "if histology_performed.upper()==\"YES\":\n",
    "    histology_results_object={\n",
    "        'Name':'Histology results',\n",
    "        'Description':histology_results_description\n",
    "    }\n",
    "    study_results_items.append(histology_results_object)\n",
    "if biomechenical_test_performed.upper() ==\"YES\":\n",
    "    biomechanical_results_object={\n",
    "        \"Name\":\"Biomechanical test results\",\n",
    "        \"Description\":biomechanical_test_description\n",
    "    }\n",
    "    study_results_items.append(biomechanical_results_object)\n",
    "if flow_cytometry_performed.upper() == \"YES\":\n",
    "    flow_results_object={\n",
    "        \"Name\":\"Flow cytometry results\",\n",
    "        \"Description\":flow_result_description\n",
    "    }\n",
    "    study_results_items.append(flow_results_object)"
   ]
  },
  {
   "cell_type": "markdown",
   "metadata": {},
   "source": [
    "<h3> Create the data document to store in the database </h3>"
   ]
  },
  {
   "cell_type": "code",
   "execution_count": null,
   "metadata": {},
   "outputs": [],
   "source": [
    "document={\n",
    "    'Study_type':Study_type,\n",
    "    'ID':ID,\n",
    "    'Name':Study_Name,\n",
    "    'Project':Project,\n",
    "    'Title':Title,\n",
    "    'Lead_author':Lead_author,\n",
    "    'Principal_investigator':Principal_investigator,\n",
    "    'DOI':DOI,\n",
    "    'Date':Date,\n",
    "    'Summary':Summary,\n",
    "    'Study_design':study_design_items,\n",
    "    'Study_results':study_results_items    \n",
    "}"
   ]
  },
  {
   "cell_type": "code",
   "execution_count": null,
   "metadata": {},
   "outputs": [],
   "source": [
    "document"
   ]
  },
  {
   "cell_type": "markdown",
   "metadata": {},
   "source": [
    "<h5> write to json file </h5>"
   ]
  },
  {
   "cell_type": "markdown",
   "metadata": {},
   "source": [
    "Please give a new to save the json object"
   ]
  },
  {
   "cell_type": "code",
   "execution_count": null,
   "metadata": {},
   "outputs": [],
   "source": [
    "file_name=\"ALP_BMA.json\""
   ]
  },
  {
   "cell_type": "code",
   "execution_count": null,
   "metadata": {},
   "outputs": [],
   "source": [
    "import json"
   ]
  },
  {
   "cell_type": "code",
   "execution_count": null,
   "metadata": {},
   "outputs": [],
   "source": [
    "with open(file_name, 'w') as outfile:\n",
    "    json.dump(document, outfile)"
   ]
  },
  {
   "cell_type": "code",
   "execution_count": null,
   "metadata": {},
   "outputs": [],
   "source": []
  }
 ],
 "metadata": {
  "kernelspec": {
   "display_name": "Python 3",
   "language": "python",
   "name": "python3"
  },
  "language_info": {
   "codemirror_mode": {
    "name": "ipython",
    "version": 3
   },
   "file_extension": ".py",
   "mimetype": "text/x-python",
   "name": "python",
   "nbconvert_exporter": "python",
   "pygments_lexer": "ipython3",
   "version": "3.8.5"
  }
 },
 "nbformat": 4,
 "nbformat_minor": 4
}
