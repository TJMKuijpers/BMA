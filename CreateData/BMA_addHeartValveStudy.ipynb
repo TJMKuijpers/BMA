{
 "cells": [
  {
   "cell_type": "markdown",
   "metadata": {},
   "source": [
    "<h3> Biomaterial Atlas: add a heart valve study </h3>"
   ]
  },
  {
   "cell_type": "markdown",
   "metadata": {},
   "source": [
    "<p> This Jupyter notebook will guide you through the metadata fields of the Data Document Model (DDM) for a heart valve study. </p>\n",
    "\n",
    "<p> Every keyword will be given a value based on your input. In this Jupyter Notebook, you have to evaluate a cell before you can type a value. In this way, you can always rerun a cell if you believe there are some spelling errors or general mistakes.<p>"
   ]
  },
  {
   "cell_type": "markdown",
   "metadata": {},
   "source": [
    "<h3> Metadata: Project level </h3>"
   ]
  },
  {
   "cell_type": "code",
   "execution_count": 10,
   "metadata": {},
   "outputs": [],
   "source": [
    "Study_type = 'Heart valve study'"
   ]
  },
  {
   "cell_type": "code",
   "execution_count": 11,
   "metadata": {},
   "outputs": [
    {
     "name": "stdout",
     "output_type": "stream",
     "text": [
      "Provide the study ID: hv001\n"
     ]
    }
   ],
   "source": [
    "ID = input('Provide the study ID: ')"
   ]
  },
  {
   "cell_type": "code",
   "execution_count": 12,
   "metadata": {},
   "outputs": [
    {
     "name": "stdout",
     "output_type": "stream",
     "text": [
      "Provide  the study name (2 keywords): Computationally inspired dTEHVs\n"
     ]
    }
   ],
   "source": [
    "Study_Name=input('Provide  the study name (2 keywords): ')"
   ]
  },
  {
   "cell_type": "code",
   "execution_count": 13,
   "metadata": {},
   "outputs": [
    {
     "name": "stdout",
     "output_type": "stream",
     "text": [
      "Provide the project name: Decellularized Tissue Engineered Heart Valves\n"
     ]
    }
   ],
   "source": [
    "Project=input(\"Provide the project name: \")"
   ]
  },
  {
   "cell_type": "code",
   "execution_count": 14,
   "metadata": {},
   "outputs": [
    {
     "name": "stdout",
     "output_type": "stream",
     "text": [
      "Provide the title of the study (publication title if applicable): Computational modeling guides tissue-engineered heart valve design for long-term in vivo performance in a translational sheep model\n"
     ]
    }
   ],
   "source": [
    "Title=input(\"Provide the title of the study (publication title if applicable): \")"
   ]
  },
  {
   "cell_type": "code",
   "execution_count": 15,
   "metadata": {},
   "outputs": [
    {
     "name": "stdout",
     "output_type": "stream",
     "text": [
      "Provide  the first and last name of the lead author: Emmert M.Y. Schmitt\n"
     ]
    }
   ],
   "source": [
    "Lead_author=input(\"Provide  the first and last name of the lead author: \")"
   ]
  },
  {
   "cell_type": "code",
   "execution_count": 16,
   "metadata": {},
   "outputs": [
    {
     "name": "stdout",
     "output_type": "stream",
     "text": [
      "Provide  the first and last name of the PI: Simon P. Hoerstrup\n"
     ]
    }
   ],
   "source": [
    "Principal_investigator=input(\"Provide  the first and last name of the PI: \")"
   ]
  },
  {
   "cell_type": "code",
   "execution_count": 17,
   "metadata": {},
   "outputs": [
    {
     "name": "stdout",
     "output_type": "stream",
     "text": [
      "Provide  the DOI: (if not applicable type N/A): 10.1126/scitranslmed.aan4587\n"
     ]
    }
   ],
   "source": [
    "DOI=input(\"Provide  the DOI: (if not applicable type N/A): \")"
   ]
  },
  {
   "cell_type": "code",
   "execution_count": 18,
   "metadata": {},
   "outputs": [
    {
     "name": "stdout",
     "output_type": "stream",
     "text": [
      "Provide the date of the study: 9 May 2018\n"
     ]
    }
   ],
   "source": [
    "Date=input(\"Provide the date of the study: \")"
   ]
  },
  {
   "cell_type": "code",
   "execution_count": 19,
   "metadata": {},
   "outputs": [
    {
     "name": "stdout",
     "output_type": "stream",
     "text": [
      "Provide  the summary of the study: By using a computational modeling approach to predict the in vivo remodeling processes, a computationally inspired heart valve design is obtained. This design is used in a clinically and regulatory relevant sheep model,  were tissue engineered heart valves are implanted as pulmonary valve replacements using minimally invasive techniques were monitored for 1 year via multimodal in vivo imaging and comprehensive tissue remodeling assessments.\n"
     ]
    }
   ],
   "source": [
    "Summary=input(\"Provide  the summary of the study: \")"
   ]
  },
  {
   "cell_type": "markdown",
   "metadata": {},
   "source": [
    "<h3> Metadata: Study design level </h3>"
   ]
  },
  {
   "cell_type": "markdown",
   "metadata": {},
   "source": [
    "<h5> Implantation in  animal model </h5>"
   ]
  },
  {
   "cell_type": "code",
   "execution_count": 20,
   "metadata": {},
   "outputs": [
    {
     "name": "stdout",
     "output_type": "stream",
     "text": [
      "Are the TEHVs implantated in  an animal model: (Yes/No)Yes\n"
     ]
    }
   ],
   "source": [
    "implantation_performed = input(\"Are the TEHVs implantated in  an animal model: (Yes/No)\")"
   ]
  },
  {
   "cell_type": "code",
   "execution_count": 21,
   "metadata": {},
   "outputs": [
    {
     "name": "stdout",
     "output_type": "stream",
     "text": [
      "Provide the implantation method: Minimally invasive implantation\n"
     ]
    }
   ],
   "source": [
    "implantation_method = input(\"Provide the implantation method: \") "
   ]
  },
  {
   "cell_type": "code",
   "execution_count": 22,
   "metadata": {},
   "outputs": [
    {
     "name": "stdout",
     "output_type": "stream",
     "text": [
      "Provide the implantation procedure: Transvenous\n"
     ]
    }
   ],
   "source": [
    "implantation_method_procedure = input(\"Provide the implantation procedure: \")"
   ]
  },
  {
   "cell_type": "code",
   "execution_count": 23,
   "metadata": {},
   "outputs": [
    {
     "name": "stdout",
     "output_type": "stream",
     "text": [
      "Provide the implantation location: Pulmonary position\n"
     ]
    }
   ],
   "source": [
    "implantation_location = input(\"Provide the implantation location: \")"
   ]
  },
  {
   "cell_type": "code",
   "execution_count": 24,
   "metadata": {},
   "outputs": [
    {
     "name": "stdout",
     "output_type": "stream",
     "text": [
      "Provide the name of the scaffold: PGA/P4HB\n"
     ]
    }
   ],
   "source": [
    "implantation_scaffold = input(\"Provide the name of the scaffold: \")"
   ]
  },
  {
   "cell_type": "code",
   "execution_count": 25,
   "metadata": {},
   "outputs": [
    {
     "name": "stdout",
     "output_type": "stream",
     "text": [
      "Stent is present: (Yes/No): Yes\n"
     ]
    }
   ],
   "source": [
    "implantation_stent_present = input(\"Stent is present: (Yes/No): \")"
   ]
  },
  {
   "cell_type": "code",
   "execution_count": 26,
   "metadata": {},
   "outputs": [
    {
     "name": "stdout",
     "output_type": "stream",
     "text": [
      "Provide the name of the stent: Nitinol\n"
     ]
    }
   ],
   "source": [
    "implantation_stent_type = input(\"Provide the name of the stent: \")"
   ]
  },
  {
   "cell_type": "code",
   "execution_count": 27,
   "metadata": {},
   "outputs": [
    {
     "name": "stdout",
     "output_type": "stream",
     "text": [
      "Provide the design class of the stent: (old/new design) New design\n"
     ]
    }
   ],
   "source": [
    "implantation_design_class = input(\"Provide the design class of the stent: (old/new design) \")"
   ]
  },
  {
   "cell_type": "code",
   "execution_count": 28,
   "metadata": {},
   "outputs": [
    {
     "name": "stdout",
     "output_type": "stream",
     "text": [
      "Provide the organism used for the animal modelSheep\n"
     ]
    }
   ],
   "source": [
    "implantation_animal_model = input(\"Provide the organism used for the animal model: \")"
   ]
  },
  {
   "cell_type": "markdown",
   "metadata": {},
   "source": [
    "<h5> Tissue Engineered heart valve characteristics </h5>"
   ]
  },
  {
   "cell_type": "code",
   "execution_count": 29,
   "metadata": {},
   "outputs": [
    {
     "name": "stdout",
     "output_type": "stream",
     "text": [
      "Did you use Tissue Engineered Heart Valves: (Yes/No) Yes\n"
     ]
    }
   ],
   "source": [
    "tehv_used=input(\"Did you use Tissue Engineered Heart Valves: (Yes/No) \")"
   ]
  },
  {
   "cell_type": "code",
   "execution_count": 30,
   "metadata": {},
   "outputs": [
    {
     "name": "stdout",
     "output_type": "stream",
     "text": [
      "How many samples did you have? 11\n"
     ]
    }
   ],
   "source": [
    "tehv_number_of_samples = input(\"How many samples did you have? \")"
   ]
  },
  {
   "cell_type": "code",
   "execution_count": 31,
   "metadata": {},
   "outputs": [
    {
     "name": "stdout",
     "output_type": "stream",
     "text": [
      "What kind of material is the mesh made of? Non-woven polyglycolic-acid\n"
     ]
    }
   ],
   "source": [
    "tehv_material_mesh = input(\"What kind of material is the mesh made of? \")"
   ]
  },
  {
   "cell_type": "code",
   "execution_count": 32,
   "metadata": {},
   "outputs": [
    {
     "name": "stdout",
     "output_type": "stream",
     "text": [
      "Provide the abbreviation of the mesh material? PGA\n"
     ]
    }
   ],
   "source": [
    "tehv_material_mesh_abbreviation = input(\"Provide the abbreviation of the mesh material? \")"
   ]
  },
  {
   "cell_type": "code",
   "execution_count": 33,
   "metadata": {},
   "outputs": [
    {
     "name": "stdout",
     "output_type": "stream",
     "text": [
      "What is the tickness of the material (with unit)?1.0 mm\n"
     ]
    }
   ],
   "source": [
    "tehv_material_thickness = input(\"What is the tickness of the material (with unit)?\")"
   ]
  },
  {
   "cell_type": "code",
   "execution_count": 34,
   "metadata": {},
   "outputs": [
    {
     "name": "stdout",
     "output_type": "stream",
     "text": [
      "what is the specific gravity used? 70 mg/cm3\n"
     ]
    }
   ],
   "source": [
    "tehv_specific_gravity = input(\"what is the specific gravity used? \")"
   ]
  },
  {
   "cell_type": "code",
   "execution_count": 35,
   "metadata": {},
   "outputs": [
    {
     "name": "stdout",
     "output_type": "stream",
     "text": [
      "What kind of material coating is used? poly-4-hydroxybutyrate\n"
     ]
    }
   ],
   "source": [
    "tehv_material_coating = input(\"What kind of material coating is used? \")"
   ]
  },
  {
   "cell_type": "code",
   "execution_count": 36,
   "metadata": {},
   "outputs": [
    {
     "name": "stdout",
     "output_type": "stream",
     "text": [
      "Provide the abbreviation of the material coating: P4HB\n"
     ]
    }
   ],
   "source": [
    "tehv_material_coating_abbreviation = input(\"Provide the abbreviation of the material coating: \")"
   ]
  },
  {
   "cell_type": "code",
   "execution_count": 37,
   "metadata": {},
   "outputs": [
    {
     "name": "stdout",
     "output_type": "stream",
     "text": [
      "Who did manufacture the coating? (Company)TEPHA inc.\n"
     ]
    }
   ],
   "source": [
    "tehv_material_coating_manufacturer = input(\"Who did manufacture the coating? (Company)\")"
   ]
  },
  {
   "cell_type": "code",
   "execution_count": 38,
   "metadata": {},
   "outputs": [
    {
     "name": "stdout",
     "output_type": "stream",
     "text": [
      "where is the coating manfucaturer located? USA\n"
     ]
    }
   ],
   "source": [
    "tehv_material_coating_manufacturer_country = input(\"where is the coating manfucaturer located? \")"
   ]
  },
  {
   "cell_type": "code",
   "execution_count": 39,
   "metadata": {},
   "outputs": [
    {
     "name": "stdout",
     "output_type": "stream",
     "text": [
      "What type of sew material is used? Prolene 6-0\n"
     ]
    }
   ],
   "source": [
    "tehv_sew_material = input(\"What type of sew material is used? \")"
   ]
  },
  {
   "cell_type": "code",
   "execution_count": 42,
   "metadata": {},
   "outputs": [
    {
     "name": "stdout",
     "output_type": "stream",
     "text": [
      "who is the manufacturer of the sew material? Ethicon\n"
     ]
    }
   ],
   "source": [
    "tehv_sew_material_manufacturer=input(\"who is the manufacturer of the sew material? \")"
   ]
  },
  {
   "cell_type": "code",
   "execution_count": 194,
   "metadata": {},
   "outputs": [
    {
     "name": "stdout",
     "output_type": "stream",
     "text": [
      "where is the sew material manfucaturer located? USA\n"
     ]
    }
   ],
   "source": [
    "tehv_sew_material_manufacturer_country = input(\"where is the sew material manfucaturer located? \")"
   ]
  },
  {
   "cell_type": "code",
   "execution_count": 44,
   "metadata": {},
   "outputs": [
    {
     "name": "stdout",
     "output_type": "stream",
     "text": [
      "Is there a stent present to support the TEHVs? Yes\n"
     ]
    }
   ],
   "source": [
    "tehv_stent_presence = input(\"Is there a stent present to support the TEHVs? \")"
   ]
  },
  {
   "cell_type": "code",
   "execution_count": 45,
   "metadata": {},
   "outputs": [
    {
     "name": "stdout",
     "output_type": "stream",
     "text": [
      "Provide the stent type: Nitonol\n"
     ]
    }
   ],
   "source": [
    "tehv_stent_type = input(\"Provide the stent type: \")"
   ]
  },
  {
   "cell_type": "code",
   "execution_count": 46,
   "metadata": {},
   "outputs": [
    {
     "name": "stdout",
     "output_type": "stream",
     "text": [
      "Provide the length of the stent: (with unit) 31 mm\n"
     ]
    }
   ],
   "source": [
    "tehv_stent_length = input(\"Provide the length of the stent: (with unit) \")"
   ]
  },
  {
   "cell_type": "code",
   "execution_count": 47,
   "metadata": {},
   "outputs": [
    {
     "name": "stdout",
     "output_type": "stream",
     "text": [
      "Provide the outside diameter of the stent: (with unit) 30 mm\n"
     ]
    }
   ],
   "source": [
    "tehv_stent_outside_diameter = input(\"Provide the outside diameter of the stent: (with unit) \")"
   ]
  },
  {
   "cell_type": "code",
   "execution_count": 48,
   "metadata": {},
   "outputs": [
    {
     "name": "stdout",
     "output_type": "stream",
     "text": [
      "Provide the name of the stent manufacturer: pfm-AG\n"
     ]
    }
   ],
   "source": [
    "tehv_stent_manufacturer = input(\"Provide the name of the stent manufacturer: \")"
   ]
  },
  {
   "cell_type": "code",
   "execution_count": 49,
   "metadata": {},
   "outputs": [
    {
     "name": "stdout",
     "output_type": "stream",
     "text": [
      "Provide the location of the manufacturer: Germany\n"
     ]
    }
   ],
   "source": [
    "tehv_stent_manufacturer_country = input(\"Provide the location of the manufacturer: \")"
   ]
  },
  {
   "cell_type": "code",
   "execution_count": 50,
   "metadata": {},
   "outputs": [
    {
     "name": "stdout",
     "output_type": "stream",
     "text": [
      "Did you seed cells on the TEHVs: (Yes/No)Yes\n"
     ]
    }
   ],
   "source": [
    "tehv_cells_seeded = input(\"Did you seed cells on the TEHVs: (Yes/No)\")"
   ]
  },
  {
   "cell_type": "code",
   "execution_count": 51,
   "metadata": {},
   "outputs": [
    {
     "name": "stdout",
     "output_type": "stream",
     "text": [
      "Provide the cell type: Ovine vascular derived cells\n"
     ]
    }
   ],
   "source": [
    "tehv_cell_seeded_cell_type = input(\"Provide the cell type: \")"
   ]
  },
  {
   "cell_type": "code",
   "execution_count": 52,
   "metadata": {},
   "outputs": [
    {
     "name": "stdout",
     "output_type": "stream",
     "text": [
      "Provide the organism of which the cells are derived: Ovine\n"
     ]
    }
   ],
   "source": [
    "tehv_cell_seeded_organism = input(\"Provide the organism of which the cells are derived: \")"
   ]
  },
  {
   "cell_type": "code",
   "execution_count": 53,
   "metadata": {},
   "outputs": [
    {
     "name": "stdout",
     "output_type": "stream",
     "text": [
      "Provide the cell passage number: 6\n"
     ]
    }
   ],
   "source": [
    "tehv_cell_seeded_cell_passage = input(\"Provide the cell passage number: \")"
   ]
  },
  {
   "cell_type": "code",
   "execution_count": 54,
   "metadata": {},
   "outputs": [
    {
     "name": "stdout",
     "output_type": "stream",
     "text": [
      "Provide the cell seeding density: 0.3*10^6 cells/cm2\n"
     ]
    }
   ],
   "source": [
    "tehv_cell_seeded_seeding_density = input(\"Provide the cell seeding density: \")"
   ]
  },
  {
   "cell_type": "code",
   "execution_count": 55,
   "metadata": {},
   "outputs": [
    {
     "name": "stdout",
     "output_type": "stream",
     "text": [
      "Provide details on the cell seeding carrier: Fibrin\n"
     ]
    }
   ],
   "source": [
    "tehv_cell_seeded_carrier = input(\"Provide details on the cell seeding carrier: \")"
   ]
  },
  {
   "cell_type": "code",
   "execution_count": 56,
   "metadata": {},
   "outputs": [
    {
     "name": "stdout",
     "output_type": "stream",
     "text": [
      "Provide the heart valve design images (with extension): dTEHVs2_transapical.png, dTEHVs2_transapical_scheme.png\n"
     ]
    }
   ],
   "source": [
    "tehv_valve_design=input(\"Provide the heart valve design images (with extension): \")"
   ]
  },
  {
   "cell_type": "markdown",
   "metadata": {},
   "source": [
    "<h5> Decellularization of TEHVs </h5>"
   ]
  },
  {
   "cell_type": "code",
   "execution_count": 57,
   "metadata": {},
   "outputs": [
    {
     "name": "stdout",
     "output_type": "stream",
     "text": [
      "Did you decellularize the TEHVs? (Yes/No)Yes\n"
     ]
    }
   ],
   "source": [
    "decellularized_tehvs = input(\"Did you decellularize the TEHVs? (Yes/No)\")"
   ]
  },
  {
   "cell_type": "code",
   "execution_count": 58,
   "metadata": {},
   "outputs": [
    {
     "name": "stdout",
     "output_type": "stream",
     "text": [
      "Provide the components in the decellularization solution: Triton X-100, Sodium deoxycholate, EDTA\n"
     ]
    }
   ],
   "source": [
    "decellularization_solution = input(\"Provide the components in the decellularization solution: \")"
   ]
  },
  {
   "cell_type": "code",
   "execution_count": 59,
   "metadata": {},
   "outputs": [
    {
     "name": "stdout",
     "output_type": "stream",
     "text": [
      "Provide the component(s) of the nucleic removal solution: TRIS-HCL and Benzonase\n"
     ]
    }
   ],
   "source": [
    "decellularization_nucleic_removal_solution = input(\"Provide the component(s) of the nucleic removal solution: \")"
   ]
  },
  {
   "cell_type": "markdown",
   "metadata": {},
   "source": [
    "<h5> Biomechanical test: biaxial test </h5>"
   ]
  },
  {
   "cell_type": "code",
   "execution_count": 60,
   "metadata": {},
   "outputs": [
    {
     "name": "stdout",
     "output_type": "stream",
     "text": [
      "Did you perform a biaxial test? Yes\n"
     ]
    }
   ],
   "source": [
    "biaxial_test_performed = input(\"Did you perform a biaxial test? \")"
   ]
  },
  {
   "cell_type": "code",
   "execution_count": 61,
   "metadata": {},
   "outputs": [
    {
     "name": "stdout",
     "output_type": "stream",
     "text": [
      "Provide the details of the test type: Biaxial tensile test\n"
     ]
    }
   ],
   "source": [
    "biaxial_test_type = input(\"Provide the details of the test type: \")"
   ]
  },
  {
   "cell_type": "code",
   "execution_count": 65,
   "metadata": {},
   "outputs": [
    {
     "name": "stdout",
     "output_type": "stream",
     "text": [
      "Provide the number of samples: 26\n"
     ]
    }
   ],
   "source": [
    "biaxial_sample_size = input(\"Provide the number of samples: \")"
   ]
  },
  {
   "cell_type": "code",
   "execution_count": 63,
   "metadata": {},
   "outputs": [
    {
     "name": "stdout",
     "output_type": "stream",
     "text": [
      "Provide the number of control valves: 4\n"
     ]
    }
   ],
   "source": [
    "biaxial_control_valves = input(\"Provide the number of control valves: \")"
   ]
  },
  {
   "cell_type": "code",
   "execution_count": 64,
   "metadata": {},
   "outputs": [
    {
     "name": "stdout",
     "output_type": "stream",
     "text": [
      "Provide the number of explant valves: 9\n"
     ]
    }
   ],
   "source": [
    "biaxial_explant_valves = input(\"Provide the number of explant valves: \")"
   ]
  },
  {
   "cell_type": "code",
   "execution_count": 66,
   "metadata": {},
   "outputs": [
    {
     "name": "stdout",
     "output_type": "stream",
     "text": [
      "Provide the number of samples per valve: 2\n"
     ]
    }
   ],
   "source": [
    "biaxial_samples_per_valve = input(\"Provide the number of samples per valve: \")"
   ]
  },
  {
   "cell_type": "code",
   "execution_count": 67,
   "metadata": {},
   "outputs": [
    {
     "name": "stdout",
     "output_type": "stream",
     "text": [
      "Provide the machine name: BioTester\n"
     ]
    }
   ],
   "source": [
    "biaxial_machine = input(\"Provide the machine name: \")"
   ]
  },
  {
   "cell_type": "code",
   "execution_count": 68,
   "metadata": {},
   "outputs": [
    {
     "name": "stdout",
     "output_type": "stream",
     "text": [
      "Provide the manufacturer of the machine: CellScale\n"
     ]
    }
   ],
   "source": [
    "biaxial_machine_manufacturer = input(\"Provide the manufacturer of the machine: \")"
   ]
  },
  {
   "cell_type": "code",
   "execution_count": 69,
   "metadata": {},
   "outputs": [
    {
     "name": "stdout",
     "output_type": "stream",
     "text": [
      "Provide information of the load cell2.5 N\n"
     ]
    }
   ],
   "source": [
    "biaxial_load_cell = input(\"Provide information of the load cell\")"
   ]
  },
  {
   "cell_type": "code",
   "execution_count": 70,
   "metadata": {},
   "outputs": [
    {
     "name": "stdout",
     "output_type": "stream",
     "text": [
      "Provide the strain rate: 100% per minute\n"
     ]
    }
   ],
   "source": [
    "baxial_strain_rate = input(\"Provide the strain rate: \")"
   ]
  },
  {
   "cell_type": "code",
   "execution_count": 71,
   "metadata": {},
   "outputs": [
    {
     "name": "stdout",
     "output_type": "stream",
     "text": [
      "Provide the rest cycle duration: 27 seconds\n"
     ]
    }
   ],
   "source": [
    "biaxial_rest_cycle_duration = input(\"Provide the rest cycle duration: \")"
   ]
  },
  {
   "cell_type": "code",
   "execution_count": 72,
   "metadata": {},
   "outputs": [
    {
     "name": "stdout",
     "output_type": "stream",
     "text": [
      "Provide the number of precondition precondition cycles: 5\n"
     ]
    }
   ],
   "source": [
    "biaxial_precondition_cycles = input(\"Provide the number of precondition precondition cycles: \")"
   ]
  },
  {
   "cell_type": "code",
   "execution_count": 73,
   "metadata": {},
   "outputs": [
    {
     "name": "stdout",
     "output_type": "stream",
     "text": [
      "Provide the % strain in the radial direction: 15% strain\n"
     ]
    }
   ],
   "source": [
    "biaxial_radial_direction_strain = input(\"Provide the % strain in the radial direction: \")"
   ]
  },
  {
   "cell_type": "code",
   "execution_count": 74,
   "metadata": {},
   "outputs": [
    {
     "name": "stdout",
     "output_type": "stream",
     "text": [
      "Provde the % strain in the circumferential direction: 15% strain\n"
     ]
    }
   ],
   "source": [
    "biaxial_circumferential_direction = input(\"Provde the % strain in the circumferential direction: \")"
   ]
  },
  {
   "cell_type": "markdown",
   "metadata": {},
   "source": [
    "<h5> Immuno_histology </h5>"
   ]
  },
  {
   "cell_type": "code",
   "execution_count": 75,
   "metadata": {},
   "outputs": [
    {
     "name": "stdout",
     "output_type": "stream",
     "text": [
      "Did you perform immuno histology staining? (Yes/No)Yes\n"
     ]
    }
   ],
   "source": [
    "immuno_performed = input(\"Did you perform immuno histology staining? (Yes/No)\")"
   ]
  },
  {
   "cell_type": "code",
   "execution_count": 76,
   "metadata": {},
   "outputs": [
    {
     "name": "stdout",
     "output_type": "stream",
     "text": [
      "what is the aim of the immunohistology experiment? Assess phenotype of infiltrated cells in explants\n"
     ]
    }
   ],
   "source": [
    "immuno_aim = input(\"what is the aim of the immunohistology experiment? \")"
   ]
  },
  {
   "cell_type": "code",
   "execution_count": 83,
   "metadata": {},
   "outputs": [
    {
     "name": "stdout",
     "output_type": "stream",
     "text": [
      "Provide which read outs are measured: alpha-smooth muscle actin, vimentin, CD31\n"
     ]
    }
   ],
   "source": [
    "immuno_read_outs = input(\"Provide which read outs are measured: \")"
   ]
  },
  {
   "cell_type": "code",
   "execution_count": 201,
   "metadata": {},
   "outputs": [
    {
     "name": "stdout",
     "output_type": "stream",
     "text": [
      "What is the 1st anitbody name? actin (smooth muscle)\n"
     ]
    }
   ],
   "source": [
    "immuno_anti_body_1_name = input(\"What is the 1st anitbody name? \")"
   ]
  },
  {
   "cell_type": "code",
   "execution_count": 202,
   "metadata": {},
   "outputs": [
    {
     "name": "stdout",
     "output_type": "stream",
     "text": [
      "What is the antibody code? IR611\n"
     ]
    }
   ],
   "source": [
    "immuno_anti_body_1_code = input(\"What is the antibody code? \")"
   ]
  },
  {
   "cell_type": "code",
   "execution_count": 203,
   "metadata": {},
   "outputs": [
    {
     "name": "stdout",
     "output_type": "stream",
     "text": [
      "Provide the name of the 1st antibody manufacturer: Dako\n"
     ]
    }
   ],
   "source": [
    "immuno_anti_body_1_manufacturer = input(\"Provide the name of the 1st antibody manufacturer: \")"
   ]
  },
  {
   "cell_type": "code",
   "execution_count": 204,
   "metadata": {},
   "outputs": [
    {
     "name": "stdout",
     "output_type": "stream",
     "text": [
      "Provide the location of the manufacturer: Denmark\n"
     ]
    }
   ],
   "source": [
    "immuno_anti_body_1_manufacturer_country = input(\"Provide the location of the manufacturer: \")"
   ]
  },
  {
   "cell_type": "code",
   "execution_count": 205,
   "metadata": {},
   "outputs": [
    {
     "name": "stdout",
     "output_type": "stream",
     "text": [
      "What is the 2nd anitbody name? Vimentin\n"
     ]
    }
   ],
   "source": [
    "immuno_anti_body_2_name = input(\"What is the 2nd anitbody name? \")"
   ]
  },
  {
   "cell_type": "code",
   "execution_count": 206,
   "metadata": {},
   "outputs": [
    {
     "name": "stdout",
     "output_type": "stream",
     "text": [
      "What is the antibody code? M7020\n"
     ]
    }
   ],
   "source": [
    "immuno_anti_body_2_code = input(\"What is the antibody code? \")"
   ]
  },
  {
   "cell_type": "code",
   "execution_count": 207,
   "metadata": {},
   "outputs": [
    {
     "name": "stdout",
     "output_type": "stream",
     "text": [
      "Provide the name of the 2nd antibody manufacturer: Dako\n"
     ]
    }
   ],
   "source": [
    "immuno_anti_body_2_manufacturer = input(\"Provide the name of the 2nd antibody manufacturer: \")"
   ]
  },
  {
   "cell_type": "code",
   "execution_count": 208,
   "metadata": {},
   "outputs": [
    {
     "name": "stdout",
     "output_type": "stream",
     "text": [
      "Provide the location of the manufacturer: Denmark\n"
     ]
    }
   ],
   "source": [
    "immuno_anti_body_2_manufacturer_country = input(\"Provide the location of the manufacturer: \")"
   ]
  },
  {
   "cell_type": "code",
   "execution_count": 172,
   "metadata": {},
   "outputs": [
    {
     "name": "stdout",
     "output_type": "stream",
     "text": [
      "What is the 3rd anitbody name? Anti-CD31 antibody\n"
     ]
    }
   ],
   "source": [
    "immuno_anti_body_3_name = input(\"What is the 3rd anitbody name? \")"
   ]
  },
  {
   "cell_type": "code",
   "execution_count": 173,
   "metadata": {},
   "outputs": [
    {
     "name": "stdout",
     "output_type": "stream",
     "text": [
      "What is the 3rd antibody code? ab28364\n"
     ]
    }
   ],
   "source": [
    "immuno_anti_body_3_code = input(\"What is the 3rd antibody code? \")"
   ]
  },
  {
   "cell_type": "code",
   "execution_count": 174,
   "metadata": {},
   "outputs": [
    {
     "name": "stdout",
     "output_type": "stream",
     "text": [
      "Provide the name of the 3rd antibody manufacturer: Abcam\n"
     ]
    }
   ],
   "source": [
    "immuno_anti_body_3_manufacturer = input(\"Provide the name of the 3rd antibody manufacturer: \")"
   ]
  },
  {
   "cell_type": "code",
   "execution_count": 175,
   "metadata": {},
   "outputs": [
    {
     "name": "stdout",
     "output_type": "stream",
     "text": [
      "Provide the location of the manufacturer: UK\n"
     ]
    }
   ],
   "source": [
    "immuno_anti_body_3_manufacturer_country = input(\"Provide the location of the manufacturer: \")"
   ]
  },
  {
   "cell_type": "markdown",
   "metadata": {},
   "source": [
    "<h5> Scanning electron microscope </h5>"
   ]
  },
  {
   "cell_type": "code",
   "execution_count": 78,
   "metadata": {},
   "outputs": [
    {
     "name": "stdout",
     "output_type": "stream",
     "text": [
      "Did you SEM image the valves? (Yes/No) Yes\n"
     ]
    }
   ],
   "source": [
    "SEM_performed = input(\"Did you SEM image the valves? (Yes/No) \")"
   ]
  },
  {
   "cell_type": "code",
   "execution_count": 79,
   "metadata": {},
   "outputs": [
    {
     "name": "stdout",
     "output_type": "stream",
     "text": [
      "Provide details of which samples you imaged: Control and decellularized TEHVs\n"
     ]
    }
   ],
   "source": [
    "SEM_measured_samples = input(\"Provide details of which samples you imaged: \")"
   ]
  },
  {
   "cell_type": "code",
   "execution_count": 80,
   "metadata": {},
   "outputs": [
    {
     "name": "stdout",
     "output_type": "stream",
     "text": [
      "Provide the details of what you measured: Surface morphology and endothelialization of TEHVs\n"
     ]
    }
   ],
   "source": [
    "SEM_readouts = input(\"Provide the details of what you measured: \")"
   ]
  },
  {
   "cell_type": "markdown",
   "metadata": {},
   "source": [
    "<h5> Biochemical assay </h5>"
   ]
  },
  {
   "cell_type": "code",
   "execution_count": 81,
   "metadata": {},
   "outputs": [
    {
     "name": "stdout",
     "output_type": "stream",
     "text": [
      "Did you perform a biochemical assay? (Yes/ No) Yes\n"
     ]
    }
   ],
   "source": [
    "biochemical_assay_performed = input(\"Did you perform a biochemical assay? (Yes/ No) \")"
   ]
  },
  {
   "cell_type": "code",
   "execution_count": 82,
   "metadata": {},
   "outputs": [
    {
     "name": "stdout",
     "output_type": "stream",
     "text": [
      "Provide the obtained readous of the assay: DNA content, sGAGs, Hydroxyproline\n"
     ]
    }
   ],
   "source": [
    "biochemical_assay_readouts = input(\"Provide the obtained readous of the assay: \")"
   ]
  },
  {
   "cell_type": "markdown",
   "metadata": {},
   "source": [
    "<h5> Histology staining </h5>"
   ]
  },
  {
   "cell_type": "code",
   "execution_count": 84,
   "metadata": {},
   "outputs": [
    {
     "name": "stdout",
     "output_type": "stream",
     "text": [
      "Did you perform a histology staining? (Yes/ No)Yes\n"
     ]
    }
   ],
   "source": [
    "histology_staining_performed = input(\"Did you perform a histology staining? (Yes/ No)\")"
   ]
  },
  {
   "cell_type": "code",
   "execution_count": 85,
   "metadata": {},
   "outputs": [
    {
     "name": "stdout",
     "output_type": "stream",
     "text": [
      "Provide the names of the staining: Hematoxylin and Eosin, Masson Goldner, Elastica van Gieson, Von Kossa\n"
     ]
    }
   ],
   "source": [
    "histology_staining_staining = input(\"Provide the names of the staining: \")"
   ]
  },
  {
   "cell_type": "code",
   "execution_count": 86,
   "metadata": {},
   "outputs": [
    {
     "name": "stdout",
     "output_type": "stream",
     "text": [
      "Provide the obtained read outs: Tissue morphology, cell infiltration, collagen distribution, elastic fiber distribution, calcification\n"
     ]
    }
   ],
   "source": [
    "histology_staining_readouts = input(\"Provide the obtained read outs: \")"
   ]
  },
  {
   "cell_type": "markdown",
   "metadata": {},
   "source": [
    "<h3> Metadata: result level </h3>"
   ]
  },
  {
   "cell_type": "code",
   "execution_count": 87,
   "metadata": {},
   "outputs": [
    {
     "name": "stdout",
     "output_type": "stream",
     "text": [
      "Was the implantation successful: (Yes/No) Yes\n"
     ]
    }
   ],
   "source": [
    "implantation_results_implantation = input(\"Was the implantation successful: (Yes/No) \")"
   ]
  },
  {
   "cell_type": "code",
   "execution_count": 88,
   "metadata": {},
   "outputs": [
    {
     "name": "stdout",
     "output_type": "stream",
     "text": [
      "Provide the number of implants at the start: 11\n"
     ]
    }
   ],
   "source": [
    "implantation_results_number_implants_start = input(\"Provide the number of implants at the start: \")"
   ]
  },
  {
   "cell_type": "code",
   "execution_count": 89,
   "metadata": {},
   "outputs": [
    {
     "name": "stdout",
     "output_type": "stream",
     "text": [
      "Did you observe perioperative morbidity: (Yes/No) No\n"
     ]
    }
   ],
   "source": [
    "implantation_perioperative_morbidity = input(\"Did you observe perioperative morbidity: (Yes/No) \")"
   ]
  },
  {
   "cell_type": "code",
   "execution_count": 90,
   "metadata": {},
   "outputs": [
    {
     "name": "stdout",
     "output_type": "stream",
     "text": [
      "Did you observe perioperative mortality: (Yes/No) No\n"
     ]
    }
   ],
   "source": [
    "implantation_perioperative_mortality = input(\"Did you observe perioperative mortality: (Yes/No) \")"
   ]
  },
  {
   "cell_type": "code",
   "execution_count": 91,
   "metadata": {},
   "outputs": [
    {
     "name": "stdout",
     "output_type": "stream",
     "text": [
      "Are all valves successfully deployed: (Yes/No) No\n"
     ]
    }
   ],
   "source": [
    "implantation_all_valves_success = input(\"Are all valves successfully deployed: (Yes/No) \")"
   ]
  },
  {
   "cell_type": "code",
   "execution_count": 92,
   "metadata": {},
   "outputs": [
    {
     "name": "stdout",
     "output_type": "stream",
     "text": [
      "Provide the number of valves successfully deployed: 10\n"
     ]
    }
   ],
   "source": [
    "implantation_number_success_valves = input(\"Provide the number of valves successfully deployed: \")"
   ]
  },
  {
   "cell_type": "markdown",
   "metadata": {},
   "source": [
    "<h5> In vivo performance </h5>"
   ]
  },
  {
   "cell_type": "code",
   "execution_count": 93,
   "metadata": {},
   "outputs": [
    {
     "name": "stdout",
     "output_type": "stream",
     "text": [
      "Did you assess the in vivo performance: (Yes/No) Yes\n"
     ]
    }
   ],
   "source": [
    "in_vivo_performance_measured = input(\"Did you assess the in vivo performance: (Yes/No) \")"
   ]
  },
  {
   "cell_type": "code",
   "execution_count": 94,
   "metadata": {},
   "outputs": [
    {
     "name": "stdout",
     "output_type": "stream",
     "text": [
      "Provide the number of implants at start: 10\n"
     ]
    }
   ],
   "source": [
    "in_vivo_performance_number_implants_start = input(\"Provide the number of implants at start: \")"
   ]
  },
  {
   "cell_type": "code",
   "execution_count": 95,
   "metadata": {},
   "outputs": [
    {
     "name": "stdout",
     "output_type": "stream",
     "text": [
      "Provide the number of implants at the end: 9\n"
     ]
    }
   ],
   "source": [
    "in_vivo_performance_number_implants_end = input(\"Provide the number of implants at the end: \")"
   ]
  },
  {
   "cell_type": "code",
   "execution_count": 96,
   "metadata": {},
   "outputs": [
    {
     "name": "stdout",
     "output_type": "stream",
     "text": [
      "Are any animals euhanized before the end: (Yes/No) Yes\n"
     ]
    }
   ],
   "source": [
    "in_vivo_performance_animals_euthanized = input(\"Are any animals euhanized before the end: (Yes/No) \")"
   ]
  },
  {
   "cell_type": "code",
   "execution_count": 97,
   "metadata": {},
   "outputs": [
    {
     "name": "stdout",
     "output_type": "stream",
     "text": [
      "Provide the number of animals euthanized1\n"
     ]
    }
   ],
   "source": [
    "in_vivo_performance_number_animals_euthanized = input(\"Provide the number of animals euthanized\")"
   ]
  },
  {
   "cell_type": "code",
   "execution_count": 98,
   "metadata": {},
   "outputs": [
    {
     "name": "stdout",
     "output_type": "stream",
     "text": [
      "Provide at which time point the animal(s) are euthanized: 6 months\n"
     ]
    }
   ],
   "source": [
    "in_vivo_performance_euthanization_time = input(\"Provide at which time point the animal(s) are euthanized: \")"
   ]
  },
  {
   "cell_type": "code",
   "execution_count": 99,
   "metadata": {},
   "outputs": [
    {
     "name": "stdout",
     "output_type": "stream",
     "text": [
      "Provide the reason why animal(s) euthanized: Regurgitation fractions above 30% in two consecutive MRI assesments for one TEHV\n"
     ]
    }
   ],
   "source": [
    "in_vivo_performance_reason_euthanized = input(\"Provide the reason why animal(s) euthanized: \")"
   ]
  },
  {
   "cell_type": "markdown",
   "metadata": {},
   "source": [
    "<h5> immunohistology results </h5>"
   ]
  },
  {
   "cell_type": "code",
   "execution_count": 100,
   "metadata": {},
   "outputs": [
    {
     "name": "stdout",
     "output_type": "stream",
     "text": [
      "Provide the results observed in the leaflet regionOnly very few alpha-SMA positive cells found. Heterogeneous distribution of vimentin-positive cells found.\n"
     ]
    }
   ],
   "source": [
    "immuno_histology_leaflet_region = input(\"Provide the results observed in the leaflet region\")"
   ]
  },
  {
   "cell_type": "code",
   "execution_count": 101,
   "metadata": {},
   "outputs": [
    {
     "name": "stdout",
     "output_type": "stream",
     "text": [
      "Provide the results observed in the hinge regionvery few alpha-SMA positive cells found. heterogeneous distribution of vimentin cells found.\n"
     ]
    }
   ],
   "source": [
    "immuno_histology_hinge_region = input(\"Provide the results observed in the hinge region\")"
   ]
  },
  {
   "cell_type": "code",
   "execution_count": 102,
   "metadata": {},
   "outputs": [
    {
     "name": "stdout",
     "output_type": "stream",
     "text": [
      "Provide the results observed in the wall regionSubstantial amount of alpha-SMA positive cells were found. Heterogeneous distribution of vimentin-positive cells found.\n"
     ]
    }
   ],
   "source": [
    "immuno_histology_wall_region = input(\"Provide the results observed in the wall region\")"
   ]
  },
  {
   "cell_type": "markdown",
   "metadata": {},
   "source": [
    "<h5> Histology results </h5>"
   ]
  },
  {
   "cell_type": "code",
   "execution_count": 103,
   "metadata": {},
   "outputs": [
    {
     "name": "stdout",
     "output_type": "stream",
     "text": [
      "Provide the results of the histology experiment: Presence of collagen and ECM is observed.\n"
     ]
    }
   ],
   "source": [
    "histology_results = input(\"Provide the results of the histology experiment: \")"
   ]
  },
  {
   "cell_type": "markdown",
   "metadata": {},
   "source": [
    "<h5> Macroscopic_appearance </h5>"
   ]
  },
  {
   "cell_type": "code",
   "execution_count": 104,
   "metadata": {},
   "outputs": [
    {
     "name": "stdout",
     "output_type": "stream",
     "text": [
      "Did you investigate macroscopic appeareance? (Yes/No) Yes\n"
     ]
    }
   ],
   "source": [
    "macroscopic_appearance_investigated = input(\"Did you investigate macroscopic appeareance? (Yes/No) \")"
   ]
  },
  {
   "cell_type": "code",
   "execution_count": 105,
   "metadata": {},
   "outputs": [
    {
     "name": "stdout",
     "output_type": "stream",
     "text": [
      "Provide a description of the macroscopic appearance: Implanted in vitro grown homologous TEHV revealed thin and shiny tissue formation in both valvular wall and leaflets. In all explants, the valvular wall tissue was integrated into the surrounding native valvular wall. Excellent coaptation of the explanted valves was evident in the implant and was maintained up to 8 weeks of implantation. Thereafter, valve closure was incomplete in line with the observed central regurgitation.\n"
     ]
    }
   ],
   "source": [
    "macroscopic_appearance = input(\"Provide a description of the macroscopic appearance: \")"
   ]
  },
  {
   "cell_type": "markdown",
   "metadata": {},
   "source": [
    "<h5> Explant appearance </h5>"
   ]
  },
  {
   "cell_type": "code",
   "execution_count": 106,
   "metadata": {},
   "outputs": [
    {
     "name": "stdout",
     "output_type": "stream",
     "text": [
      "Provide the image names (with extension) for the explant appearancedTEHVS2_ExplantEvaluation.png,dTEHVS2_ExplantEvaluation2.png\n"
     ]
    }
   ],
   "source": [
    "explant_images=input(\"Provide the image names (with extension) for the explant appearance\")"
   ]
  },
  {
   "cell_type": "markdown",
   "metadata": {},
   "source": [
    "<h5> Endothelialization </h5>"
   ]
  },
  {
   "cell_type": "code",
   "execution_count": 107,
   "metadata": {},
   "outputs": [
    {
     "name": "stdout",
     "output_type": "stream",
     "text": [
      "Did you investigate endothelialization: (Yes/No) Yes\n"
     ]
    }
   ],
   "source": [
    "endothelialization_investigated = input(\"Did you investigate endothelialization: (Yes/No) \")"
   ]
  },
  {
   "cell_type": "code",
   "execution_count": 108,
   "metadata": {},
   "outputs": [
    {
     "name": "stdout",
     "output_type": "stream",
     "text": [
      "Provide a short summary of the endothelialization results: A homogeneous endothelialization was evident in all valves.\n"
     ]
    }
   ],
   "source": [
    "endothelialization_results_observation=input(\"Provide a short summary of the endothelialization results: \")"
   ]
  },
  {
   "cell_type": "code",
   "execution_count": 109,
   "metadata": {},
   "outputs": [
    {
     "name": "stdout",
     "output_type": "stream",
     "text": [
      "Describe the endothelialization trend in the leaflet region: N/A\n"
     ]
    }
   ],
   "source": [
    "endothelialization_results_leaflet=input(\"Describe the endothelialization trend in the leaflet region: \")"
   ]
  },
  {
   "cell_type": "code",
   "execution_count": 110,
   "metadata": {},
   "outputs": [
    {
     "name": "stdout",
     "output_type": "stream",
     "text": [
      "Describe the endothelialization trend in the hinge region: N/A\n"
     ]
    }
   ],
   "source": [
    "endothelialization_results_hinge=input(\"Describe the endothelialization trend in the hinge region: \")"
   ]
  },
  {
   "cell_type": "code",
   "execution_count": 111,
   "metadata": {},
   "outputs": [
    {
     "name": "stdout",
     "output_type": "stream",
     "text": [
      "Describe the endothelialization trend in the valvular wall: N/A\n"
     ]
    }
   ],
   "source": [
    "endothelialization_results_valvular=input(\"Describe the endothelialization trend in the valvular wall: \")"
   ]
  },
  {
   "cell_type": "markdown",
   "metadata": {},
   "source": [
    "<h5> Biochemical assay </h5>"
   ]
  },
  {
   "cell_type": "code",
   "execution_count": 112,
   "metadata": {},
   "outputs": [
    {
     "name": "stdout",
     "output_type": "stream",
     "text": [
      "Provide the name of the read out: DNA content\n"
     ]
    }
   ],
   "source": [
    "biochemical_assay_readout1=input(\"Provide the name of the read out: \")"
   ]
  },
  {
   "cell_type": "code",
   "execution_count": 113,
   "metadata": {},
   "outputs": [
    {
     "name": "stdout",
     "output_type": "stream",
     "text": [
      "Describe what you observed: DNA content significantly increased in the explants.\n"
     ]
    }
   ],
   "source": [
    "biochemical_assay_readout1_observation = input(\"Describe what you observed: \")"
   ]
  },
  {
   "cell_type": "code",
   "execution_count": 114,
   "metadata": {},
   "outputs": [
    {
     "name": "stdout",
     "output_type": "stream",
     "text": [
      "Provide the dry weight of the controls: (with unit) 0.0024 microgram/mg\n"
     ]
    }
   ],
   "source": [
    "biochemical_assay_readout1_controls_dry_weight = input(\"Provide the dry weight of the controls: (with unit) \")"
   ]
  },
  {
   "cell_type": "code",
   "execution_count": 115,
   "metadata": {},
   "outputs": [
    {
     "name": "stdout",
     "output_type": "stream",
     "text": [
      "Provide the dry weight of the explants: (with unit) 1.64 microgram/mg\n"
     ]
    }
   ],
   "source": [
    "biochemical_assay_readout1_explants_dry_weight = input(\"Provide the dry weight of the explants: (with unit) \")"
   ]
  },
  {
   "cell_type": "code",
   "execution_count": 116,
   "metadata": {},
   "outputs": [
    {
     "name": "stdout",
     "output_type": "stream",
     "text": [
      "Provide the name of the read out: sGAG\n"
     ]
    }
   ],
   "source": [
    "biochemical_assay_readout2=input(\"Provide the name of the read out: \")"
   ]
  },
  {
   "cell_type": "code",
   "execution_count": 117,
   "metadata": {},
   "outputs": [
    {
     "name": "stdout",
     "output_type": "stream",
     "text": [
      "Describe what you observed: No significant difference in sGAGs content between nonimplanted controls and explants.\n"
     ]
    }
   ],
   "source": [
    "biochemical_assay_readout2_observation = input(\"Describe what you observed: \")"
   ]
  },
  {
   "cell_type": "code",
   "execution_count": 118,
   "metadata": {},
   "outputs": [
    {
     "name": "stdout",
     "output_type": "stream",
     "text": [
      "Provide the dry weight of the controls: (with unit) 17.7 microgram/mg\n"
     ]
    }
   ],
   "source": [
    "biochemical_assay_readout2_controls_dry_weight = input(\"Provide the dry weight of the controls: (with unit) \")"
   ]
  },
  {
   "cell_type": "code",
   "execution_count": 119,
   "metadata": {},
   "outputs": [
    {
     "name": "stdout",
     "output_type": "stream",
     "text": [
      "Provide the dry weight of the explants: (with unit) 18.2 microgram/mg\n"
     ]
    }
   ],
   "source": [
    "biochemical_assay_readout2_explants_dry_weight = input(\"Provide the dry weight of the explants: (with unit) \")"
   ]
  },
  {
   "cell_type": "code",
   "execution_count": 120,
   "metadata": {},
   "outputs": [
    {
     "name": "stdout",
     "output_type": "stream",
     "text": [
      "Provide the name of the read out: Collagen\n"
     ]
    }
   ],
   "source": [
    "biochemical_assay_readout3=input(\"Provide the name of the read out: \")"
   ]
  },
  {
   "cell_type": "code",
   "execution_count": 121,
   "metadata": {},
   "outputs": [
    {
     "name": "stdout",
     "output_type": "stream",
     "text": [
      "Describe what you observed: Collagen (based on HYP) significantly increased in the explants.\n"
     ]
    }
   ],
   "source": [
    "biochemical_assay_readout3_observation = input(\"Describe what you observed: \")"
   ]
  },
  {
   "cell_type": "code",
   "execution_count": 122,
   "metadata": {},
   "outputs": [
    {
     "name": "stdout",
     "output_type": "stream",
     "text": [
      "Provide the dry weight of the controls: (with unit) 37.29 microgram/mg\n"
     ]
    }
   ],
   "source": [
    "biochemical_assay_readout3_controls_dry_weight = input(\"Provide the dry weight of the controls: (with unit) \")"
   ]
  },
  {
   "cell_type": "code",
   "execution_count": 123,
   "metadata": {},
   "outputs": [
    {
     "name": "stdout",
     "output_type": "stream",
     "text": [
      "Provide the dry weight of the explants: (with unit) 58.98 microgram/mg\n"
     ]
    }
   ],
   "source": [
    "biochemical_assay_readout3_explants_dry_weight = input(\"Provide the dry weight of the explants: (with unit) \")"
   ]
  },
  {
   "cell_type": "markdown",
   "metadata": {},
   "source": [
    "<h5> in vitro functionality </h5>"
   ]
  },
  {
   "cell_type": "code",
   "execution_count": 124,
   "metadata": {},
   "outputs": [
    {
     "name": "stdout",
     "output_type": "stream",
     "text": [
      "Did you measure in vitro functionality: (Yes/No) Yes\n"
     ]
    }
   ],
   "source": [
    "in_vitro_functionality_measured = input(\"Did you measure in vitro functionality: (Yes/No) \")"
   ]
  },
  {
   "cell_type": "code",
   "execution_count": 125,
   "metadata": {},
   "outputs": [
    {
     "name": "stdout",
     "output_type": "stream",
     "text": [
      "Provide the total number of samples: 15\n"
     ]
    }
   ],
   "source": [
    "in_vitro_functionality_total_samples = input(\"Provide the total number of samples: \")"
   ]
  },
  {
   "cell_type": "code",
   "execution_count": 126,
   "metadata": {},
   "outputs": [
    {
     "name": "stdout",
     "output_type": "stream",
     "text": [
      "Provide the number of control samples: 4\n"
     ]
    }
   ],
   "source": [
    "in_vitro_functionality_control_samples = input(\"Provide the number of control samples: \")"
   ]
  },
  {
   "cell_type": "code",
   "execution_count": 127,
   "metadata": {},
   "outputs": [
    {
     "name": "stdout",
     "output_type": "stream",
     "text": [
      "Provide the number of implant samples: 11\n"
     ]
    }
   ],
   "source": [
    "in_vitro_functionality_implant_samples = input(\"Provide the number of implant samples: \")"
   ]
  },
  {
   "cell_type": "markdown",
   "metadata": {},
   "source": [
    "<b> First fill in the information for the control samples </b>"
   ]
  },
  {
   "cell_type": "code",
   "execution_count": 128,
   "metadata": {},
   "outputs": [
    {
     "name": "stdout",
     "output_type": "stream",
     "text": [
      "Provide the regurgitation unit: % stroke\n"
     ]
    }
   ],
   "source": [
    "in_vitro_functionality_control_regurgitation_unit = input(\"Provide the regurgitation unit: \")"
   ]
  },
  {
   "cell_type": "code",
   "execution_count": 129,
   "metadata": {},
   "outputs": [
    {
     "name": "stdout",
     "output_type": "stream",
     "text": [
      "Provide the regurgitation values: 12,15.3,11.2,11.56\n"
     ]
    }
   ],
   "source": [
    "in_vitro_functionality_control_regurgitation_values = input(\"Provide the regurgitation values: \")"
   ]
  },
  {
   "cell_type": "code",
   "execution_count": 130,
   "metadata": {},
   "outputs": [
    {
     "name": "stdout",
     "output_type": "stream",
     "text": [
      "Provide the regurgitation sample codes: A,B,C,D\n"
     ]
    }
   ],
   "source": [
    "in_vitro_functionality_control_regurgitation_sample_code = input(\"Provide the regurgitation sample codes: \")"
   ]
  },
  {
   "cell_type": "code",
   "execution_count": 131,
   "metadata": {},
   "outputs": [
    {
     "name": "stdout",
     "output_type": "stream",
     "text": [
      "Provide the closing volume unit: ml\n"
     ]
    }
   ],
   "source": [
    "in_vitro_functionality_control_closing_volume_unit = input(\"Provide the closing volume unit: \")"
   ]
  },
  {
   "cell_type": "code",
   "execution_count": 132,
   "metadata": {},
   "outputs": [
    {
     "name": "stdout",
     "output_type": "stream",
     "text": [
      "Provide the closing volume values: 6.76,8.65,6.75,6.68\n"
     ]
    }
   ],
   "source": [
    "in_vitro_functionality_control_closing_volume_values = input(\"Provide the closing volume values: \")"
   ]
  },
  {
   "cell_type": "code",
   "execution_count": 133,
   "metadata": {},
   "outputs": [
    {
     "name": "stdout",
     "output_type": "stream",
     "text": [
      "Provide the closing volume sample codes: A,B,C,D\n"
     ]
    }
   ],
   "source": [
    "in_vitro_functionality_control_closing_volume_sample_code = input(\"Provide the closing volume sample codes: \")"
   ]
  },
  {
   "cell_type": "code",
   "execution_count": 134,
   "metadata": {},
   "outputs": [
    {
     "name": "stdout",
     "output_type": "stream",
     "text": [
      "Provide the leakage volume unit: ml\n"
     ]
    }
   ],
   "source": [
    "in_vitro_functionality_control_leakage_volume_unit = input(\"Provide the leakage volume unit: \")"
   ]
  },
  {
   "cell_type": "code",
   "execution_count": 135,
   "metadata": {},
   "outputs": [
    {
     "name": "stdout",
     "output_type": "stream",
     "text": [
      "Provide the leakage volume values: 0.81,1.01,0.3,0.63\n"
     ]
    }
   ],
   "source": [
    "in_vitro_functionality_control_leakage_volume_values= input(\"Provide the leakage volume values: \")"
   ]
  },
  {
   "cell_type": "code",
   "execution_count": 136,
   "metadata": {},
   "outputs": [
    {
     "name": "stdout",
     "output_type": "stream",
     "text": [
      "Provide the leakage volume sample code: A,B,C,D\n"
     ]
    }
   ],
   "source": [
    "in_vitro_functionality_control_leakage_volume_sample_code = input(\"Provide the leakage volume sample code: \")"
   ]
  },
  {
   "cell_type": "code",
   "execution_count": 137,
   "metadata": {},
   "outputs": [
    {
     "name": "stdout",
     "output_type": "stream",
     "text": [
      "Provide the stroke volume unit: ml\n"
     ]
    }
   ],
   "source": [
    "in_vitro_functionality_control_stroke_volume_unit = input(\"Provide the stroke volume unit: \")"
   ]
  },
  {
   "cell_type": "code",
   "execution_count": 138,
   "metadata": {},
   "outputs": [
    {
     "name": "stdout",
     "output_type": "stream",
     "text": [
      "Provide the stroke volume values: 63.11,63.17,63.03,63.28\n"
     ]
    }
   ],
   "source": [
    "in_vitro_functionality_control_stroke_volume_values = input(\"Provide the stroke volume values: \")"
   ]
  },
  {
   "cell_type": "code",
   "execution_count": 139,
   "metadata": {},
   "outputs": [
    {
     "name": "stdout",
     "output_type": "stream",
     "text": [
      "Provide the sample codes: A,B,C,D\n"
     ]
    }
   ],
   "source": [
    "in_vitro_functionality_control_stroke_volume_sample_code = input(\"Provide the sample codes: \")"
   ]
  },
  {
   "cell_type": "code",
   "execution_count": 140,
   "metadata": {},
   "outputs": [
    {
     "name": "stdout",
     "output_type": "stream",
     "text": [
      "Provide the orefice area unitcm2\n"
     ]
    }
   ],
   "source": [
    "in_vitro_functionality_control_orefice_area_unit = input(\"Provide the orefice area unit: \")"
   ]
  },
  {
   "cell_type": "code",
   "execution_count": 141,
   "metadata": {},
   "outputs": [
    {
     "name": "stdout",
     "output_type": "stream",
     "text": [
      "Provide the orefice area values2.28,2.34,2.47,2.29\n"
     ]
    }
   ],
   "source": [
    "in_vitro_functionality_control_orefice_area_values = input(\"Provide the orefice area values: \")"
   ]
  },
  {
   "cell_type": "code",
   "execution_count": 142,
   "metadata": {},
   "outputs": [
    {
     "name": "stdout",
     "output_type": "stream",
     "text": [
      "PRovide the orefice area sample codeA,B,C,D\n"
     ]
    }
   ],
   "source": [
    "in_vitro_functionality_control_orefice_area_sample_code = input(\"Provide the orefice area sample code: \")"
   ]
  },
  {
   "cell_type": "markdown",
   "metadata": {},
   "source": [
    "<b> Now provide the information for the implant samples </b>"
   ]
  },
  {
   "cell_type": "code",
   "execution_count": 143,
   "metadata": {},
   "outputs": [
    {
     "name": "stdout",
     "output_type": "stream",
     "text": [
      "Provide the regurgitation unit: % stroke\n"
     ]
    }
   ],
   "source": [
    "in_vitro_functionality_implant_regurgitation_unit = input(\"Provide the regurgitation unit: \")"
   ]
  },
  {
   "cell_type": "code",
   "execution_count": 144,
   "metadata": {},
   "outputs": [
    {
     "name": "stdout",
     "output_type": "stream",
     "text": [
      "Provide the regurgitation values: 5.16,4.82,11.2,10.87,12.37,6.55,5.78,13.14,7,10.63,6.1\n"
     ]
    }
   ],
   "source": [
    "in_vitro_functionality_implant_regurgitation_values = input(\"Provide the regurgitation values: \")"
   ]
  },
  {
   "cell_type": "code",
   "execution_count": 145,
   "metadata": {},
   "outputs": [
    {
     "name": "stdout",
     "output_type": "stream",
     "text": [
      "Provide the regurgitation sample codes: E,F,G,H,I,J,K,L,M,N,O\n"
     ]
    }
   ],
   "source": [
    "in_vitro_functionality_implant_regurgitation_sample_code = input(\"Provide the regurgitation sample codes: \")"
   ]
  },
  {
   "cell_type": "code",
   "execution_count": 146,
   "metadata": {},
   "outputs": [
    {
     "name": "stdout",
     "output_type": "stream",
     "text": [
      "Provide the closing volume unit: ml\n"
     ]
    }
   ],
   "source": [
    "in_vitro_functionality_implant_closing_volume_unit = input(\"Provide the closing volume unit: \")"
   ]
  },
  {
   "cell_type": "code",
   "execution_count": 147,
   "metadata": {},
   "outputs": [
    {
     "name": "stdout",
     "output_type": "stream",
     "text": [
      "Provide the closing volume values: 2.92,1.65,6.79,5.86,7.33,2.33,3.03,7.4,4.1,6.25,3.22\n"
     ]
    }
   ],
   "source": [
    "in_vitro_functionality_implant_closing_volume_values = input(\"Provide the closing volume values: \")"
   ]
  },
  {
   "cell_type": "code",
   "execution_count": 148,
   "metadata": {},
   "outputs": [
    {
     "name": "stdout",
     "output_type": "stream",
     "text": [
      "Provide the closing volume sample codes: E,F,G,H,I,J,K,L,M,N,O\n"
     ]
    }
   ],
   "source": [
    "in_vitro_functionality_implant_closing_volume_sample_code = input(\"Provide the closing volume sample codes: \")"
   ]
  },
  {
   "cell_type": "code",
   "execution_count": 149,
   "metadata": {},
   "outputs": [
    {
     "name": "stdout",
     "output_type": "stream",
     "text": [
      "Provide the leakage volume unit: ml\n"
     ]
    }
   ],
   "source": [
    "in_vitro_functionality_implant_leakage_volume_unit = input(\"Provide the leakage volume unit: \")"
   ]
  },
  {
   "cell_type": "code",
   "execution_count": 150,
   "metadata": {},
   "outputs": [
    {
     "name": "stdout",
     "output_type": "stream",
     "text": [
      "Provide the leakage volume values: 0.42,1.48,0.36,1.1,0.6,1.77,0.6,0.75,0.21,0.41,0.56\n"
     ]
    }
   ],
   "source": [
    "in_vitro_functionality_implant_leakage_volume_values = input(\"Provide the leakage volume values: \")"
   ]
  },
  {
   "cell_type": "code",
   "execution_count": 151,
   "metadata": {},
   "outputs": [
    {
     "name": "stdout",
     "output_type": "stream",
     "text": [
      "Provide the leakage volume sample code: E,F,G,H,I,J,K,L,M,N,O\n"
     ]
    }
   ],
   "source": [
    "in_vitro_functionality_implant_leakage_volume_sample_code = input(\"Provide the leakage volume sample code: \")"
   ]
  },
  {
   "cell_type": "code",
   "execution_count": 152,
   "metadata": {},
   "outputs": [
    {
     "name": "stdout",
     "output_type": "stream",
     "text": [
      "Provide the stroke volume unit: ml\n"
     ]
    }
   ],
   "source": [
    "in_vitro_functionality_implant_stroke_volume_unit = input(\"Provide the stroke volume unit: \")"
   ]
  },
  {
   "cell_type": "code",
   "execution_count": 153,
   "metadata": {},
   "outputs": [
    {
     "name": "stdout",
     "output_type": "stream",
     "text": [
      "Provide the stroke volume values: 64.74,64.95,63.83,64,64.15,62.56,62.84,61.99,61.67,62.68,61.98\n"
     ]
    }
   ],
   "source": [
    "in_vitro_functionality_implant_stroke_volume_values = input(\"Provide the stroke volume values: \")"
   ]
  },
  {
   "cell_type": "code",
   "execution_count": 229,
   "metadata": {},
   "outputs": [
    {
     "name": "stdout",
     "output_type": "stream",
     "text": [
      "Provide the sample codes: E,F,G,H,I,J,K,L,M,N,O\n"
     ]
    }
   ],
   "source": [
    "in_vitro_functionality_implant_stroke_volume_sample_code = input(\"Provide the sample codes: \")\n"
   ]
  },
  {
   "cell_type": "code",
   "execution_count": 155,
   "metadata": {},
   "outputs": [
    {
     "name": "stdout",
     "output_type": "stream",
     "text": [
      "Provide the orefice area unitcm2\n"
     ]
    }
   ],
   "source": [
    "in_vitro_functionality_implant_orefice_area_unit = input(\"Provide the orefice area unit\")"
   ]
  },
  {
   "cell_type": "code",
   "execution_count": 156,
   "metadata": {},
   "outputs": [
    {
     "name": "stdout",
     "output_type": "stream",
     "text": [
      "Provide the orefice area values2.44,2.43,2.39,2.36,2.4,2.2,2.36,2.27,2.13,2.61,2.36\n"
     ]
    }
   ],
   "source": [
    "in_vitro_functionality_implant_orefice_area_values = input(\"Provide the orefice area values\")"
   ]
  },
  {
   "cell_type": "code",
   "execution_count": 157,
   "metadata": {},
   "outputs": [
    {
     "name": "stdout",
     "output_type": "stream",
     "text": [
      "PRovide the orefice area sample codeE,F,G,H,I,J,K,L,M,N,O\n"
     ]
    }
   ],
   "source": [
    "in_vitro_functionality_implant_orefice_area_sample_code = input(\"PRovide the orefice area sample code\")"
   ]
  },
  {
   "cell_type": "markdown",
   "metadata": {},
   "source": [
    "<h5> long-term follow-up results </h5>"
   ]
  },
  {
   "cell_type": "code",
   "execution_count": 158,
   "metadata": {},
   "outputs": [
    {
     "name": "stdout",
     "output_type": "stream",
     "text": [
      "Did you perform a long-term follow up: (Yes/No) Yes\n"
     ]
    }
   ],
   "source": [
    "long_term_follow_up_performed = input(\"Did you perform a long-term follow up: (Yes/No) \")"
   ]
  },
  {
   "cell_type": "code",
   "execution_count": 159,
   "metadata": {},
   "outputs": [
    {
     "name": "stdout",
     "output_type": "stream",
     "text": [
      "Provide the total number of samples: 13\n"
     ]
    }
   ],
   "source": [
    "long_term_follow_up_number_of_samples = input(\"Provide the total number of samples: \")"
   ]
  },
  {
   "cell_type": "code",
   "execution_count": 160,
   "metadata": {},
   "outputs": [
    {
     "name": "stdout",
     "output_type": "stream",
     "text": [
      "Provide the number of control samples: 4\n"
     ]
    }
   ],
   "source": [
    "long_term_follow_up_number_of_control_samples = input(\"Provide the number of control samples: \")"
   ]
  },
  {
   "cell_type": "code",
   "execution_count": 161,
   "metadata": {},
   "outputs": [
    {
     "name": "stdout",
     "output_type": "stream",
     "text": [
      "Provde the number of explant samples: 9\n"
     ]
    }
   ],
   "source": [
    "long_term_follow_up_number_of_explant_samples = input(\"Provde the number of explant samples: \")"
   ]
  },
  {
   "cell_type": "code",
   "execution_count": 166,
   "metadata": {},
   "outputs": [
    {
     "name": "stdout",
     "output_type": "stream",
     "text": [
      "Provde the leaflet length of the control group: 18.29 mm\n"
     ]
    }
   ],
   "source": [
    "long_term_follow_up_leaflet_length_control = input(\"Provde the leaflet length of the control group: \")"
   ]
  },
  {
   "cell_type": "code",
   "execution_count": 167,
   "metadata": {},
   "outputs": [
    {
     "name": "stdout",
     "output_type": "stream",
     "text": [
      "Provde the leaflet length of the explant group: 12.8 mm\n"
     ]
    }
   ],
   "source": [
    "long_term_follow_up_leaflet_length_explant = input(\"Provde the leaflet length of the explant group: \")"
   ]
  },
  {
   "cell_type": "code",
   "execution_count": 165,
   "metadata": {},
   "outputs": [
    {
     "name": "stdout",
     "output_type": "stream",
     "text": [
      "Specify if the values are per sample, average, or medianMedian thickness\n"
     ]
    }
   ],
   "source": [
    "long_term_follow_up_leaflet_length_meaning = input(\"Specify if the values are per sample, average, or median\")"
   ]
  },
  {
   "cell_type": "code",
   "execution_count": 169,
   "metadata": {},
   "outputs": [
    {
     "name": "stdout",
     "output_type": "stream",
     "text": [
      "Provide the leaflet thickness of the control group: 0.18,0.24,0.18,0.26\n"
     ]
    }
   ],
   "source": [
    "long_term_follow_up_leaflet_thickness_control = input(\"Provide the leaflet thickness of the control group: \")"
   ]
  },
  {
   "cell_type": "code",
   "execution_count": 170,
   "metadata": {},
   "outputs": [
    {
     "name": "stdout",
     "output_type": "stream",
     "text": [
      "Provide the leaflet thickness of the implant group: 0.2,0.16,0.26,0.22,0.13,0.22,0.2,0.14,0.18,0.1,0.13\n"
     ]
    }
   ],
   "source": [
    "long_term_follow_up_leaflet_thickness_explant = input(\"Provide the leaflet thickness of the implant group: \")"
   ]
  },
  {
   "cell_type": "code",
   "execution_count": 171,
   "metadata": {},
   "outputs": [
    {
     "name": "stdout",
     "output_type": "stream",
     "text": [
      "Specify if the values are per sample, average, or medianAverage thickness in mm\n"
     ]
    }
   ],
   "source": [
    "long_term_follow_up_leaflet_thickness_meaning = input(\"Specify if the values are per sample, average, or median\")"
   ]
  },
  {
   "cell_type": "markdown",
   "metadata": {},
   "source": [
    "<h3> Create the json object </h3>"
   ]
  },
  {
   "cell_type": "code",
   "execution_count": 209,
   "metadata": {},
   "outputs": [],
   "source": [
    "study_design_items=[]"
   ]
  },
  {
   "cell_type": "code",
   "execution_count": 188,
   "metadata": {},
   "outputs": [],
   "source": [
    "# conver the image objects\n",
    "tehv_valve_design_images = tehv_valve_design.split(\",\")\n",
    "#explant_images = explant_images.split(\",\")\n",
    "#in_vitro_functionality_control_regurgitation_values = in_vitro_functionality_control_regurgitation_values.split(\",\")\n",
    "#in_vitro_functionality_control_closing_volume_values = in_vitro_functionality_control_closing_volume_values.split(\",\")\n",
    "#in_vitro_functionality_implant_leakage_volume_values = in_vitro_functionality_implant_leakage_volume_values.split(\",\")\n",
    "#in_vitro_functionality_control_stroke_volume_values  = in_vitro_functionality_control_stroke_volume_values.split(\",\")\n",
    "#in_vitro_functionality_control_orefice_area_values = in_vitro_functionality_control_orefice_area_values.split(\",\")\n",
    "#in_vitro_functionality_implant_regurgitation_values = in_vitro_functionality_implant_regurgitation_values.split(\",\")\n",
    "#in_vitro_functionality_implant_closing_volume_values = in_vitro_functionality_implant_closing_volume_values.split(\",\")\n",
    "#in_vitro_functionality_implant_leakage_volume_values = in_vitro_functionality_implant_leakage_volume_values.split(\",\")\n",
    "#in_vitro_functionality_implant_stroke_volume_values = in_vitro_functionality_implant_stroke_volume_values.split(\",\")\n",
    "#in_vitro_functionality_implant_orefice_area_values = in_vitro_functionality_implant_orefice_area_values.split(\",\")"
   ]
  },
  {
   "cell_type": "code",
   "execution_count": 210,
   "metadata": {},
   "outputs": [],
   "source": [
    "if implantation_performed.upper() ==\"YES\":\n",
    "    implantation_object={\n",
    "        \"Name\":\"Animal implantation\",\n",
    "        \"Implantation_method\":implantation_method ,\n",
    "        \"Implantation_procedure\":implantation_method_procedure,\n",
    "        \"Implantation_location\":implantation_location,\n",
    "        \"Scaffold\":implantation_scaffold,\n",
    "        \"Stent_present\":implantation_stent_present,\n",
    "        \"Stent_type\":implantation_stent_type,\n",
    "        \"Scaffold_design_class\":implantation_design_class,\n",
    "        \"Animal_model\":implantation_animal_model\n",
    "    }\n",
    "    study_design_items.append(implantation_object)\n",
    "    \n",
    "if tehv_used.upper() ==\"YES\":\n",
    "    tehv_object={\n",
    "        \"Name\":\"Tissue Engineered Heart Valves\",\n",
    "        \"Number_of_samples\":tehv_number_of_samples,\n",
    "        \"Mesh\":{\n",
    "            \"Material\":tehv_material_mesh,\n",
    "            \"Abbreviation\":tehv_material_mesh_abbreviation,\n",
    "            \"Thickness\":tehv_material_thickness\n",
    "        },\n",
    "        \"Specific_gravity\":tehv_specific_gravity,\n",
    "        \"Coating\":{\n",
    "            \"Name\":tehv_material_coating,\n",
    "            \"Abbreviation\":tehv_material_coating_abbreviation,\n",
    "            \"Manufacturer\":tehv_material_coating_manufacturer,\n",
    "            \"Country\": tehv_material_coating_manufacturer_country\n",
    "        },\n",
    "        \"Sew\":{\n",
    "            \"Name\":tehv_sew_material,\n",
    "            \"Manufacturer\":tehv_sew_material_manufacturer,\n",
    "            \"Country\":tehv_sew_material_manufacturer_country\n",
    "        },\n",
    "        \"Stent\":{\n",
    "            \"Present\":tehv_stent_presence,\n",
    "            \"Stent_type\":tehv_stent_type,\n",
    "            \"Stent_length\":tehv_stent_length,\n",
    "            \"Outside_diameter\":tehv_stent_outside_diameter,\n",
    "            \"Manufacturer\":tehv_stent_manufacturer,\n",
    "            \"Country\":tehv_stent_manufacturer_country\n",
    "        },\n",
    "        \"Cell_seeding\":{\n",
    "            \"Cells_seeded\":tehv_cells_seeded,\n",
    "            \"Cell_type\":tehv_cell_seeded_cell_type,\n",
    "            \"Organism\": tehv_cell_seeded_organism,\n",
    "            \"Cell_Passage\":tehv_cell_seeded_cell_passage,\n",
    "            \"Seeding_density\":tehv_cell_seeded_seeding_density,\n",
    "            \"Seeding_carrier\":tehv_cell_seeded_carrier,\n",
    "        },\n",
    "        \"Images\":tehv_valve_design_images\n",
    "    }\n",
    "    study_design_items.append(tehv_object)\n",
    "\n",
    "if decellularized_tehvs.upper() ==\"YES\":\n",
    "    decellularized_object={\n",
    "        \"Name\":\"Decullularized TEHVs\",\n",
    "        \"Solution\":decellularization_solution,\n",
    "        \"Nucleic_removal_solution\":decellularization_nucleic_removal_solution\n",
    "    }\n",
    "    study_design_items.append(decellularized_object)\n",
    "\n",
    "if immuno_performed.upper() == \"YES\":\n",
    "    immuno_object={\n",
    "        \"Name\":\"ImmunoHistology\",\n",
    "        \"Aim\":immuno_aim,\n",
    "        \"Read_outs\":immuno_read_outs,\n",
    "        \"First_antibody\":{\n",
    "            \"Name\":immuno_anti_body_1_name,\n",
    "            \"Code\":immuno_anti_body_1_code,\n",
    "            \"Manufacturer\":immuno_anti_body_1_manufacturer,\n",
    "            \"Country\":immuno_anti_body_1_manufacturer_country\n",
    "        },\n",
    "        \"Second_antibody\":{\n",
    "            \"Name\":immuno_anti_body_2_name,\n",
    "            \"Code\":immuno_anti_body_2_code,\n",
    "            \"Manufacturer\":immuno_anti_body_2_manufacturer,\n",
    "            \"Country\":immuno_anti_body_2_manufacturer_country\n",
    "        },\n",
    "        \"Third_antibody\":{\n",
    "            \"Name\":immuno_anti_body_3_name,\n",
    "            \"Code\":immuno_anti_body_3_code,\n",
    "            \"Manufacturer\":immuno_anti_body_3_manufacturer,\n",
    "            \"Country\":immuno_anti_body_3_manufacturer_country\n",
    "        }\n",
    "    }\n",
    "    study_design_items.append(immuno_object)\n",
    "    \n",
    "if SEM_performed.upper() == \"YES\":\n",
    "    SEM_object={\n",
    "        \"Name\":\"Scanning Electron Microscope\",\n",
    "        \"Samples_imaged\":SEM_measured_samples,\n",
    "        \"Read_outs\":SEM_readouts \n",
    "    }\n",
    "    study_design_items.append(SEM_object)\n",
    "\n",
    "if biochemical_assay_performed.upper() ==\"YES\":\n",
    "    biochemical_object = {\n",
    "        \"Name\":\"Biochemical Assay\",\n",
    "        \"Read_outs\":biochemical_assay_readouts\n",
    "    }\n",
    "    study_design_items.append(biochemical_object)\n",
    "    \n",
    "if histology_staining_performed.upper() ==\"YES\":\n",
    "    histology_object={\n",
    "        \"Name\":\"Histology experiment\",\n",
    "        \"Staining\":histology_staining_staining,\n",
    "        \"Read_outs\":histology_staining_readouts\n",
    "    }\n",
    "    study_design_items.append(histology_object)\n",
    "    \n",
    "        \n",
    "        "
   ]
  },
  {
   "cell_type": "code",
   "execution_count": 230,
   "metadata": {},
   "outputs": [],
   "source": [
    "study_results_items=[]"
   ]
  },
  {
   "cell_type": "code",
   "execution_count": 231,
   "metadata": {},
   "outputs": [],
   "source": [
    "if implantation_performed.upper() ==\"YES\":\n",
    "    implantation_results_object={\n",
    "        \"Name\":\"Implantation results\",\n",
    "        \"Number_implants_at_start\":implantation_results_number_implants_start,\n",
    "        \"Perioperative_morbidity\":implantation_perioperative_morbidity,\n",
    "        \"Perioperative_mortality\":implantation_perioperative_mortality,\n",
    "        \"Implantation_all_valves_success\":implantation_all_valves_success,\n",
    "        \"Successful_implanted_valves\":implantation_number_success_valves\n",
    "    }\n",
    "    study_results_items.append(implantation_results_object)\n",
    "    \n",
    "if in_vivo_performance_measured.upper() ==\"YES\":\n",
    "    in_vivo_performance_object={\n",
    "        \"Name\":\"In vivo performance\",\n",
    "        \"Number_implants_start\":in_vivo_performance_number_implants_start,\n",
    "        \"Number_implants_end\":in_vivo_performance_number_implants_end,\n",
    "        \"Animals_euthanized\":in_vivo_performance_number_animals_euthanized,\n",
    "        \"Euthanization_time\":in_vivo_performance_euthanization_time,\n",
    "        \"Reason_euthanization\":in_vivo_performance_reason_euthanized\n",
    "    }\n",
    "    study_results_items.append(in_vivo_performance_object)\n",
    "\n",
    "if immuno_performed.upper()==\"YES\":\n",
    "    immuno_results_object={\n",
    "        \"Name\":\"ImmunoHistology results\",\n",
    "        \"Leaflet region\":immuno_histology_leaflet_region,\n",
    "        \"Hinge region\":immuno_histology_hinge_region,\n",
    "        \"Wall region\":immuno_histology_wall_region\n",
    "    }\n",
    "    study_results_items.append(immuno_results_object)\n",
    "if histology_staining_performed.upper() ==\"YES\":\n",
    "    histology_results_object={\n",
    "        \"Name\":\"Histology experiment results\",\n",
    "        \"Summary\":histology_results\n",
    "    }\n",
    "    study_results_items.append(histology_results_object)\n",
    "if macroscopic_appearance_investigated.upper() ==\"YES\":\n",
    "    macroscopic_results_object={\n",
    "        \"Name\":\"Macroscopic appearance\",\n",
    "        \"Summary\":macroscopic_appearance\n",
    "    }\n",
    "    study_results_items.append(macroscopic_appearance)\n",
    "    \n",
    "if endothelialization_investigated.upper() ==\"YES\":\n",
    "    endothelialization_result_object={\n",
    "        \"Name\":\"Endothelialization\",\n",
    "        \"Summary\":endothelialization_results_observation,\n",
    "        \"Leaflet_region\":endothelialization_results_leaflet,\n",
    "        \"Hinge_region\":endothelialization_results_hinge,\n",
    "        \"Valvular_wall\":endothelialization_results_valvular\n",
    "    }\n",
    "    study_results_items.append(endothelialization_result_object)\n",
    "\n",
    "if biochemical_assay_performed.upper() ==\"YES\":\n",
    "    biochemical_results_object={\n",
    "        \"Name\":\"Biochemical assay results\",\n",
    "        \"Readout_1\":{\n",
    "            \"Name\":biochemical_assay_readout1,\n",
    "            \"Observation\":biochemical_assay_readout1_observation,\n",
    "            \"Controls_dry_weight\":biochemical_assay_readout1_controls_dry_weight,\n",
    "            \"Explant_dry_weight\":biochemical_assay_readout1_explants_dry_weight\n",
    "        },\n",
    "        \"Readout_2\":{\n",
    "            \"Name\":biochemical_assay_readout2,\n",
    "            \"Observation\":biochemical_assay_readout2_observation,\n",
    "            \"Controls_dry_weight\":biochemical_assay_readout2_controls_dry_weight,\n",
    "            \"Explant_dry_weight\":biochemical_assay_readout2_explants_dry_weight\n",
    "        },\"Readout_3\":{\n",
    "            \"Name\":biochemical_assay_readout3,\n",
    "            \"Observation\":biochemical_assay_readout3_observation,\n",
    "            \"Controls_dry_weight\":biochemical_assay_readout3_controls_dry_weight,\n",
    "            \"Explant_dry_weight\":biochemical_assay_readout3_explants_dry_weight\n",
    "        }\n",
    "    }\n",
    "    study_results_items.append(biochemical_results_object)\n",
    "\n",
    "if in_vitro_functionality_measured.upper() ==\"YES\":\n",
    "    in_vitro_results_object={\n",
    "        \"Name\":\"In vitro performance\",\n",
    "        \"Total_samples\":in_vitro_functionality_total_samples,\n",
    "        \"Number_of_control_samples\":in_vitro_functionality_control_samples,\n",
    "        \"Number_of_cmplant_samples\":in_vitro_functionality_implant_samples,\n",
    "        \"Regurgitaiton\":{\n",
    "            \"Control_sample_values\":in_vitro_functionality_control_regurgitation_values,\n",
    "            \"Implant_sample_values\":in_vitro_functionality_implant_regurgitation_values,\n",
    "            \"Unit (Control)\":in_vitro_functionality_control_regurgitation_unit,\n",
    "            \"Unit (Implant)\":in_vitro_functionality_implant_regurgitation_unit,\n",
    "            \"Control_sample_code\":in_vitro_functionality_control_regurgitation_sample_code,\n",
    "            \"Implant_sample_code\":in_vitro_functionality_implant_regurgitation_sample_code\n",
    "        },\n",
    "        \"Closing_volume\":{\n",
    "            \"Control_sample_values\":in_vitro_functionality_control_closing_volume_values,\n",
    "            \"Implant_sample_values\":in_vitro_functionality_implant_closing_volume_values,\n",
    "            \"Unit (Control)\":in_vitro_functionality_control_closing_volume_unit,\n",
    "            \"Unit (Implant)\":in_vitro_functionality_implant_closing_volume_unit,\n",
    "            \"Control_sample_code\":in_vitro_functionality_control_closing_volume_sample_code ,\n",
    "            \"Implant_sample_code\":in_vitro_functionality_implant_closing_volume_sample_code \n",
    "        },\n",
    "        \"Leakage_volume\":{\n",
    "            \"Control_sample_values\":in_vitro_functionality_control_leakage_volume_values,\n",
    "            \"Implant_sample_values\":in_vitro_functionality_implant_leakage_volume_values,\n",
    "            \"Unit (Control)\":in_vitro_functionality_control_leakage_volume_unit,\n",
    "            \"Unit (Implant)\":in_vitro_functionality_implant_leakage_volume_unit,\n",
    "            \"Control_sample_code\":in_vitro_functionality_control_leakage_volume_sample_code,\n",
    "            \"Implant_sample_code\":in_vitro_functionality_implant_leakage_volume_sample_code\n",
    "        },\n",
    "        \"Stroke_volume\":{\n",
    "            \"Control_sample_values\":in_vitro_functionality_control_stroke_volume_values,\n",
    "            \"Implant_sample_values\":in_vitro_functionality_implant_stroke_volume_values,\n",
    "            \"Unit (Control)\":in_vitro_functionality_control_stroke_volume_unit,\n",
    "            \"Unit (Implant)\":in_vitro_functionality_implant_stroke_volume_unit,\n",
    "            \"Control_sample_code\":in_vitro_functionality_control_stroke_volume_sample_code,\n",
    "            \"Implant_sample_code\":in_vitro_functionality_implant_stroke_volume_sample_code\n",
    "        },\n",
    "        \"Orefice_area\":{\n",
    "            \"Control_sample_values\":in_vitro_functionality_control_orefice_area_values,\n",
    "            \"Implant_sample_values\":in_vitro_functionality_implant_orefice_area_values,\n",
    "            \"Unit (Control)\":in_vitro_functionality_control_orefice_area_unit,\n",
    "            \"Unit (Implant)\":in_vitro_functionality_implant_orefice_area_unit,\n",
    "            \"Control_sample_code\":in_vitro_functionality_control_orefice_area_sample_code,\n",
    "            \"Implant_sample_code\":in_vitro_functionality_implant_orefice_area_sample_code\n",
    "        }\n",
    "    }\n",
    "    study_results_items.append(in_vitro_results_object)\n",
    "if long_term_follow_up_performed.upper() == \"YES\":\n",
    "    long_term_results_object={\n",
    "        \"Name\":\"Long term follow-up results\",\n",
    "        \"Number_of_samples\":long_term_follow_up_number_of_samples,\n",
    "        \"Number_of_control_samples\":long_term_follow_up_number_of_control_samples,\n",
    "        \"Number_of_explant_samples\":long_term_follow_up_number_of_explant_samples,\n",
    "        \"Leaflet\":{\n",
    "            \"Length\":{\n",
    "            \"Name\":\"Length\",\n",
    "            \"Length_control\":long_term_follow_up_leaflet_length_control,\n",
    "            \"Length_explant\":long_term_follow_up_leaflet_length_explant,\n",
    "            \"Measurement value\":long_term_follow_up_leaflet_length_meaning\n",
    "            },\n",
    "            \"Thickness\":{\n",
    "                \"Name\":\"Thickness\",\n",
    "                \"Thickness_control\":long_term_follow_up_leaflet_thickness_control,\n",
    "                \"Thickness_explant\":long_term_follow_up_leaflet_thickness_explant,\n",
    "                \"Measurement_value\":long_term_follow_up_leaflet_thickness_meaning\n",
    "            }\n",
    "         }\n",
    "    }\n",
    "    study_results_items.append(long_term_results_object)"
   ]
  },
  {
   "cell_type": "code",
   "execution_count": 232,
   "metadata": {},
   "outputs": [],
   "source": [
    "document={\n",
    "    'Study_type':Study_type,\n",
    "    'ID':ID,\n",
    "    'Name':Study_Name,\n",
    "    'Project':Project,\n",
    "    'Title':Title,\n",
    "    'Lead_author':Lead_author,\n",
    "    'Principal_investigator':Principal_investigator,\n",
    "    'DOI':DOI,\n",
    "    'Date':Date,\n",
    "    'Summary':Summary,\n",
    "    'Study_design':study_design_items,\n",
    "    'Study_results':study_results_items    \n",
    "}"
   ]
  },
  {
   "cell_type": "code",
   "execution_count": 233,
   "metadata": {},
   "outputs": [
    {
     "data": {
      "text/plain": [
       "{'Study_type': 'Heart valve study',\n",
       " 'ID': 'hv001',\n",
       " 'Name': 'Computationally inspired dTEHVs',\n",
       " 'Project': 'Decellularized Tissue Engineered Heart Valves',\n",
       " 'Title': 'Computational modeling guides tissue-engineered heart valve design for long-term in vivo performance in a translational sheep model',\n",
       " 'Lead_author': 'Emmert M.Y. Schmitt',\n",
       " 'Principal_investigator': 'Simon P. Hoerstrup',\n",
       " 'DOI': '10.1126/scitranslmed.aan4587',\n",
       " 'Date': '9 May 2018',\n",
       " 'Summary': 'By using a computational modeling approach to predict the in vivo remodeling processes, a computationally inspired heart valve design is obtained. This design is used in a clinically and regulatory relevant sheep model,  were tissue engineered heart valves are implanted as pulmonary valve replacements using minimally invasive techniques were monitored for 1 year via multimodal in vivo imaging and comprehensive tissue remodeling assessments.',\n",
       " 'Study_design': [{'Name': 'Animal implantation',\n",
       "   'Implantation_method': 'Minimally invasive implantation',\n",
       "   'Implantation_procedure': 'Transvenous',\n",
       "   'Implantation_location': 'Pulmonary position',\n",
       "   'Scaffold': 'PGA/P4HB',\n",
       "   'Stent_present': 'Yes',\n",
       "   'Stent_type': 'Nitinol',\n",
       "   'Scaffold_design_class': 'New design',\n",
       "   'Animal_model': 'Sheep'},\n",
       "  {'Name': 'Tissue Engineered Heart Valves',\n",
       "   'Number_of_samples': '11',\n",
       "   'Mesh': {'Material': 'Non-woven polyglycolic-acid',\n",
       "    'Abbreviation': 'PGA',\n",
       "    'Thickness': '1.0 mm'},\n",
       "   'Specific_gravity': '70 mg/cm3',\n",
       "   'Coating': {'Name': 'poly-4-hydroxybutyrate',\n",
       "    'Abbreviation': 'P4HB',\n",
       "    'Manufacturer': 'TEPHA inc.',\n",
       "    'Country': 'USA'},\n",
       "   'Sew': {'Name': 'Prolene 6-0', 'Manufacturer': 'Ethicon', 'Country': 'USA'},\n",
       "   'Stent': {'Present': 'Yes',\n",
       "    'Stent_type': 'Nitonol',\n",
       "    'Stent_length': '31 mm',\n",
       "    'Outside_diameter': '30 mm',\n",
       "    'Manufacturer': 'pfm-AG',\n",
       "    'Country': 'Germany'},\n",
       "   'Cell_seeding': {'Cells_seeded': 'Yes',\n",
       "    'Cell_type': 'Ovine vascular derived cells',\n",
       "    'Organism': 'Ovine',\n",
       "    'Cell_Passage': '6',\n",
       "    'Seeding_density': '0.3*10^6 cells/cm2',\n",
       "    'Seeding_carrier': 'Fibrin'},\n",
       "   'Images': ['dTEHVs2_transapical.png', ' dTEHVs2_transapical_scheme.png']},\n",
       "  {'Name': 'Decullularized TEHVs',\n",
       "   'Solution': 'Triton X-100, Sodium deoxycholate, EDTA',\n",
       "   'Nucleic_removal_solution': 'TRIS-HCL and Benzonase'},\n",
       "  {'Name': 'ImmunoHistology',\n",
       "   'Aim': 'Assess phenotype of infiltrated cells in explants',\n",
       "   'Read_outs': 'alpha-smooth muscle actin, vimentin, CD31',\n",
       "   'First_antibody': {'Name': 'actin (smooth muscle)',\n",
       "    'Code': 'IR611',\n",
       "    'Manufacturer': 'Dako',\n",
       "    'Country': 'Denmark'},\n",
       "   'Second_antibody': {'Name': 'Vimentin',\n",
       "    'Code': 'M7020',\n",
       "    'Manufacturer': 'Dako',\n",
       "    'Country': 'Denmark'},\n",
       "   'Third_antibody': {'Name': 'Anti-CD31 antibody',\n",
       "    'Code': 'ab28364',\n",
       "    'Manufacturer': 'Abcam',\n",
       "    'Country': 'UK'}},\n",
       "  {'Name': 'Scanning Electron Microscope',\n",
       "   'Samples_imaged': 'Control and decellularized TEHVs',\n",
       "   'Read_outs': 'Surface morphology and endothelialization of TEHVs'},\n",
       "  {'Name': 'Biochemical Assay',\n",
       "   'Read_outs': 'DNA content, sGAGs, Hydroxyproline'},\n",
       "  {'Name': 'Histology experiment',\n",
       "   'Staining': 'Hematoxylin and Eosin, Masson Goldner, Elastica van Gieson, Von Kossa',\n",
       "   'Read_outs': 'Tissue morphology, cell infiltration, collagen distribution, elastic fiber distribution, calcification'}],\n",
       " 'Study_results': [{'Name': 'Implantation results',\n",
       "   'Number_implants_at_start': '11',\n",
       "   'Perioperative_morbidity': 'No',\n",
       "   'Perioperative_mortality': 'No',\n",
       "   'Implantation_all_valves_success': 'No',\n",
       "   'Successful_implanted_valves': '10'},\n",
       "  {'Name': 'In vivo performance',\n",
       "   'Number_implants_start': '10',\n",
       "   'Number_implants_end': '9',\n",
       "   'Animals_euthanized': '1',\n",
       "   'Euthanization_time': '6 months',\n",
       "   'Reason_euthanization': 'Regurgitation fractions above 30% in two consecutive MRI assesments for one TEHV'},\n",
       "  {'Name': 'ImmunoHistology results',\n",
       "   'Leaflet region': 'Only very few alpha-SMA positive cells found. Heterogeneous distribution of vimentin-positive cells found.',\n",
       "   'Hinge region': 'very few alpha-SMA positive cells found. heterogeneous distribution of vimentin cells found.',\n",
       "   'Wall region': 'Substantial amount of alpha-SMA positive cells were found. Heterogeneous distribution of vimentin-positive cells found.'},\n",
       "  {'Name': 'Histology experiment results',\n",
       "   'Summary': 'Presence of collagen and ECM is observed.'},\n",
       "  'Implanted in vitro grown homologous TEHV revealed thin and shiny tissue formation in both valvular wall and leaflets. In all explants, the valvular wall tissue was integrated into the surrounding native valvular wall. Excellent coaptation of the explanted valves was evident in the implant and was maintained up to 8 weeks of implantation. Thereafter, valve closure was incomplete in line with the observed central regurgitation.',\n",
       "  {'Name': 'Endothelialization',\n",
       "   'Summary': 'A homogeneous endothelialization was evident in all valves.',\n",
       "   'Leaflet_region': 'N/A',\n",
       "   'Hinge_region': 'N/A',\n",
       "   'Valvular_wall': 'N/A'},\n",
       "  {'Name': 'Biochemical assay results',\n",
       "   'Readout_1': {'Name': 'DNA content',\n",
       "    'Observation': 'DNA content significantly increased in the explants.',\n",
       "    'Controls_dry_weight': '0.0024 microgram/mg',\n",
       "    'Explant_dry_weight': '1.64 microgram/mg'},\n",
       "   'Readout_2': {'Name': 'sGAG',\n",
       "    'Observation': 'No significant difference in sGAGs content between nonimplanted controls and explants.',\n",
       "    'Controls_dry_weight': '17.7 microgram/mg',\n",
       "    'Explant_dry_weight': '18.2 microgram/mg'},\n",
       "   'Readout_3': {'Name': 'Collagen',\n",
       "    'Observation': 'Collagen (based on HYP) significantly increased in the explants.',\n",
       "    'Controls_dry_weight': '37.29 microgram/mg',\n",
       "    'Explant_dry_weight': '58.98 microgram/mg'}},\n",
       "  {'Name': 'In vitro performance',\n",
       "   'Total_samples': '15',\n",
       "   'Number_of_control_samples': '4',\n",
       "   'Number_of_cmplant_samples': '11',\n",
       "   'Regurgitaiton': {'Control_sample_values': ['12', '15.3', '11.2', '11.56'],\n",
       "    'Implant_sample_values': ['5.16',\n",
       "     '4.82',\n",
       "     '11.2',\n",
       "     '10.87',\n",
       "     '12.37',\n",
       "     '6.55',\n",
       "     '5.78',\n",
       "     '13.14',\n",
       "     '7',\n",
       "     '10.63',\n",
       "     '6.1'],\n",
       "    'Unit (Control)': '% stroke',\n",
       "    'Unit (Implant)': '% stroke',\n",
       "    'Control_sample_code': 'A,B,C,D',\n",
       "    'Implant_sample_code': 'E,F,G,H,I,J,K,L,M,N,O'},\n",
       "   'Closing_volume': {'Control_sample_values': ['6.76',\n",
       "     '8.65',\n",
       "     '6.75',\n",
       "     '6.68'],\n",
       "    'Implant_sample_values': ['2.92',\n",
       "     '1.65',\n",
       "     '6.79',\n",
       "     '5.86',\n",
       "     '7.33',\n",
       "     '2.33',\n",
       "     '3.03',\n",
       "     '7.4',\n",
       "     '4.1',\n",
       "     '6.25',\n",
       "     '3.22'],\n",
       "    'Unit (Control)': 'ml',\n",
       "    'Unit (Implant)': 'ml',\n",
       "    'Control_sample_code': 'A,B,C,D',\n",
       "    'Implant_sample_code': 'E,F,G,H,I,J,K,L,M,N,O'},\n",
       "   'Leakage_volume': {'Control_sample_values': '0.81,1.01,0.3,0.63',\n",
       "    'Implant_sample_values': ['0.42',\n",
       "     '1.48',\n",
       "     '0.36',\n",
       "     '1.1',\n",
       "     '0.6',\n",
       "     '1.77',\n",
       "     '0.6',\n",
       "     '0.75',\n",
       "     '0.21',\n",
       "     '0.41',\n",
       "     '0.56'],\n",
       "    'Unit (Control)': 'ml',\n",
       "    'Unit (Implant)': 'ml',\n",
       "    'Control_sample_code': 'A,B,C,D',\n",
       "    'Implant_sample_code': 'E,F,G,H,I,J,K,L,M,N,O'},\n",
       "   'Stroke_volume': {'Control_sample_values': ['63.11',\n",
       "     '63.17',\n",
       "     '63.03',\n",
       "     '63.28'],\n",
       "    'Implant_sample_values': '64.74,64.95,63.83,64,64.15,62.56,62.84,61.99,61.67,62.68,61.98',\n",
       "    'Unit (Control)': 'ml',\n",
       "    'Unit (Implant)': 'ml',\n",
       "    'Control_sample_code': 'A,B,C,D',\n",
       "    'Implant_sample_code': 'E,F,G,H,I,J,K,L,M,N,O'},\n",
       "   'Orefice_area': {'Control_sample_values': ['2.28', '2.34', '2.47', '2.29'],\n",
       "    'Implant_sample_values': '2.44,2.43,2.39,2.36,2.4,2.2,2.36,2.27,2.13,2.61,2.36',\n",
       "    'Unit (Control)': 'cm2',\n",
       "    'Unit (Implant)': 'cm2',\n",
       "    'Control_sample_code': 'A,B,C,D',\n",
       "    'Implant_sample_code': 'E,F,G,H,I,J,K,L,M,N,O'}},\n",
       "  {'Name': 'Long term follow-up results',\n",
       "   'Number_of_samples': '13',\n",
       "   'Number_of_control_samples': '4',\n",
       "   'Number_of_explant_samples': '9',\n",
       "   'Leaflet': {'Length': {'Name': 'Length',\n",
       "     'Length_control': '18.29 mm',\n",
       "     'Length_explant': '12.8 mm',\n",
       "     'Measurement value': 'Median thickness'},\n",
       "    'Thickness': {'Name': 'Thickness',\n",
       "     'Thickness_control': '0.18,0.24,0.18,0.26',\n",
       "     'Thickness_explant': '0.2,0.16,0.26,0.22,0.13,0.22,0.2,0.14,0.18,0.1,0.13',\n",
       "     'Measurement_value': 'Average thickness in mm'}}}]}"
      ]
     },
     "execution_count": 233,
     "metadata": {},
     "output_type": "execute_result"
    }
   ],
   "source": [
    "document"
   ]
  },
  {
   "cell_type": "markdown",
   "metadata": {},
   "source": [
    "<h3> Write to json file </h3>"
   ]
  },
  {
   "cell_type": "code",
   "execution_count": 234,
   "metadata": {},
   "outputs": [],
   "source": [
    "file_name=\"dTEHV2_BMA.json\""
   ]
  },
  {
   "cell_type": "code",
   "execution_count": 235,
   "metadata": {},
   "outputs": [],
   "source": [
    "import json\n",
    "import os"
   ]
  },
  {
   "cell_type": "code",
   "execution_count": 236,
   "metadata": {},
   "outputs": [],
   "source": [
    "# check if file does not exist\n",
    "files_in_directory=os.listdir"
   ]
  },
  {
   "cell_type": "code",
   "execution_count": 239,
   "metadata": {},
   "outputs": [],
   "source": [
    "with open(file_name, 'w') as outfile:\n",
    "    json.dump(document, outfile)"
   ]
  },
  {
   "cell_type": "code",
   "execution_count": null,
   "metadata": {},
   "outputs": [],
   "source": []
  }
 ],
 "metadata": {
  "kernelspec": {
   "display_name": "Python 3",
   "language": "python",
   "name": "python3"
  },
  "language_info": {
   "codemirror_mode": {
    "name": "ipython",
    "version": 3
   },
   "file_extension": ".py",
   "mimetype": "text/x-python",
   "name": "python",
   "nbconvert_exporter": "python",
   "pygments_lexer": "ipython3",
   "version": "3.8.5"
  }
 },
 "nbformat": 4,
 "nbformat_minor": 4
}
